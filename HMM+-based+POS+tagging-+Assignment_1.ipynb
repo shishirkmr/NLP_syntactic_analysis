{
 "cells": [
  {
   "cell_type": "markdown",
   "metadata": {},
   "source": [
    "## POS tagging using modified Viterbi"
   ]
  },
  {
   "cell_type": "markdown",
   "metadata": {},
   "source": [
    "### Problem Statement: Modify the Viterbi algorithm to solve the problem of unknown words"
   ]
  },
  {
   "cell_type": "markdown",
   "metadata": {},
   "source": [
    "### Data Preparation"
   ]
  },
  {
   "cell_type": "code",
   "execution_count": 1,
   "metadata": {},
   "outputs": [],
   "source": [
    "#Importing libraries\n",
    "import nltk, re, pprint\n",
    "import numpy as np\n",
    "import pandas as pd\n",
    "import requests\n",
    "import matplotlib.pyplot as plt\n",
    "import seaborn as sns\n",
    "import pprint, time\n",
    "import random\n",
    "from sklearn.model_selection import train_test_split\n",
    "from nltk.tokenize import word_tokenize"
   ]
  },
  {
   "cell_type": "code",
   "execution_count": 2,
   "metadata": {},
   "outputs": [],
   "source": [
    "# reading the Treebank tagged sentences\n",
    "nltk_data = list(nltk.corpus.treebank.tagged_sents(tagset='universal'))"
   ]
  },
  {
   "cell_type": "code",
   "execution_count": 3,
   "metadata": {},
   "outputs": [
    {
     "data": {
      "text/plain": [
       "[[('Pierre', 'NOUN'),\n",
       "  ('Vinken', 'NOUN'),\n",
       "  (',', '.'),\n",
       "  ('61', 'NUM'),\n",
       "  ('years', 'NOUN'),\n",
       "  ('old', 'ADJ'),\n",
       "  (',', '.'),\n",
       "  ('will', 'VERB'),\n",
       "  ('join', 'VERB'),\n",
       "  ('the', 'DET'),\n",
       "  ('board', 'NOUN'),\n",
       "  ('as', 'ADP'),\n",
       "  ('a', 'DET'),\n",
       "  ('nonexecutive', 'ADJ'),\n",
       "  ('director', 'NOUN'),\n",
       "  ('Nov.', 'NOUN'),\n",
       "  ('29', 'NUM'),\n",
       "  ('.', '.')],\n",
       " [('Mr.', 'NOUN'),\n",
       "  ('Vinken', 'NOUN'),\n",
       "  ('is', 'VERB'),\n",
       "  ('chairman', 'NOUN'),\n",
       "  ('of', 'ADP'),\n",
       "  ('Elsevier', 'NOUN'),\n",
       "  ('N.V.', 'NOUN'),\n",
       "  (',', '.'),\n",
       "  ('the', 'DET'),\n",
       "  ('Dutch', 'NOUN'),\n",
       "  ('publishing', 'VERB'),\n",
       "  ('group', 'NOUN'),\n",
       "  ('.', '.')],\n",
       " [('Rudolph', 'NOUN'),\n",
       "  ('Agnew', 'NOUN'),\n",
       "  (',', '.'),\n",
       "  ('55', 'NUM'),\n",
       "  ('years', 'NOUN'),\n",
       "  ('old', 'ADJ'),\n",
       "  ('and', 'CONJ'),\n",
       "  ('former', 'ADJ'),\n",
       "  ('chairman', 'NOUN'),\n",
       "  ('of', 'ADP'),\n",
       "  ('Consolidated', 'NOUN'),\n",
       "  ('Gold', 'NOUN'),\n",
       "  ('Fields', 'NOUN'),\n",
       "  ('PLC', 'NOUN'),\n",
       "  (',', '.'),\n",
       "  ('was', 'VERB'),\n",
       "  ('named', 'VERB'),\n",
       "  ('*-1', 'X'),\n",
       "  ('a', 'DET'),\n",
       "  ('nonexecutive', 'ADJ'),\n",
       "  ('director', 'NOUN'),\n",
       "  ('of', 'ADP'),\n",
       "  ('this', 'DET'),\n",
       "  ('British', 'ADJ'),\n",
       "  ('industrial', 'ADJ'),\n",
       "  ('conglomerate', 'NOUN'),\n",
       "  ('.', '.')]]"
      ]
     },
     "execution_count": 3,
     "metadata": {},
     "output_type": "execute_result"
    }
   ],
   "source": [
    "nltk_data[:3]"
   ]
  },
  {
   "cell_type": "code",
   "execution_count": 4,
   "metadata": {},
   "outputs": [
    {
     "name": "stdout",
     "output_type": "stream",
     "text": [
      "100676\n"
     ]
    },
    {
     "data": {
      "text/plain": [
       "[('Pierre', 'NOUN'),\n",
       " ('Vinken', 'NOUN'),\n",
       " (',', '.'),\n",
       " ('61', 'NUM'),\n",
       " ('years', 'NOUN'),\n",
       " ('old', 'ADJ'),\n",
       " (',', '.'),\n",
       " ('will', 'VERB'),\n",
       " ('join', 'VERB'),\n",
       " ('the', 'DET')]"
      ]
     },
     "execution_count": 4,
     "metadata": {},
     "output_type": "execute_result"
    }
   ],
   "source": [
    "# converting the list of sents to a list of (word, pos tag) tuples\n",
    "tagged_words = [tup for sent in nltk_data for tup in sent]\n",
    "print(len(tagged_words))\n",
    "tagged_words[:10]"
   ]
  },
  {
   "cell_type": "markdown",
   "metadata": {},
   "source": [
    "We now have a list of about 100676 (word, tag) tuples. Let's now do some exploratory analyses."
   ]
  },
  {
   "cell_type": "markdown",
   "metadata": {},
   "source": [
    "### Exploratory Analysis"
   ]
  },
  {
   "cell_type": "code",
   "execution_count": 5,
   "metadata": {},
   "outputs": [
    {
     "data": {
      "text/plain": [
       "12"
      ]
     },
     "execution_count": 5,
     "metadata": {},
     "output_type": "execute_result"
    }
   ],
   "source": [
    "tags = [pair[1] for pair in tagged_words]\n",
    "unique_tags = set(tags)\n",
    "len(unique_tags)"
   ]
  },
  {
   "cell_type": "markdown",
   "metadata": {},
   "source": [
    "There are 12 unique POS tags in the corpus"
   ]
  },
  {
   "cell_type": "code",
   "execution_count": 6,
   "metadata": {},
   "outputs": [
    {
     "data": {
      "text/plain": [
       "Counter({'NOUN': 28867,\n",
       "         '.': 11715,\n",
       "         'NUM': 3546,\n",
       "         'ADJ': 6397,\n",
       "         'VERB': 13564,\n",
       "         'DET': 8725,\n",
       "         'ADP': 9857,\n",
       "         'CONJ': 2265,\n",
       "         'X': 6613,\n",
       "         'ADV': 3171,\n",
       "         'PRT': 3219,\n",
       "         'PRON': 2737})"
      ]
     },
     "execution_count": 6,
     "metadata": {},
     "output_type": "execute_result"
    }
   ],
   "source": [
    "from collections import Counter\n",
    "tag_counts = Counter(tags)\n",
    "tag_counts"
   ]
  },
  {
   "cell_type": "markdown",
   "metadata": {},
   "source": [
    "Frequency of each tags in the corpus"
   ]
  },
  {
   "cell_type": "code",
   "execution_count": 7,
   "metadata": {},
   "outputs": [
    {
     "data": {
      "text/plain": [
       "[('NOUN', 28867), ('VERB', 13564), ('.', 11715), ('ADP', 9857), ('DET', 8725)]"
      ]
     },
     "execution_count": 7,
     "metadata": {},
     "output_type": "execute_result"
    }
   ],
   "source": [
    "tag_counts.most_common(5)"
   ]
  },
  {
   "cell_type": "markdown",
   "metadata": {},
   "source": [
    "Thus, NOUN is the most common tag followed by VERB, ., ADP, DET etc. "
   ]
  },
  {
   "cell_type": "code",
   "execution_count": 8,
   "metadata": {},
   "outputs": [],
   "source": [
    "# ADJ: adjective\n",
    "# ADP: adposition\n",
    "# ADV: adverb\n",
    "# AUX: auxiliary\n",
    "# CCONJ: coordinating conjunction\n",
    "# DET: determiner\n",
    "# INTJ: interjection\n",
    "# NOUN: noun\n",
    "# NUM: numeral\n",
    "# PART: particle\n",
    "# PRON: pronoun\n",
    "# PROPN: proper noun\n",
    "# PUNCT: punctuation\n",
    "# SCONJ: subordinating conjunction\n",
    "# SYM: symbol\n",
    "# VERB: verb\n",
    "# X: other"
   ]
  },
  {
   "cell_type": "code",
   "execution_count": 9,
   "metadata": {},
   "outputs": [
    {
     "data": {
      "text/plain": [
       "[('bank', 'NOUN'),\n",
       " ('Bank', 'NOUN'),\n",
       " ('bank', 'NOUN'),\n",
       " ('Bank', 'NOUN'),\n",
       " ('bank', 'NOUN'),\n",
       " ('Bank', 'NOUN'),\n",
       " ('bank', 'NOUN'),\n",
       " ('Bank', 'NOUN'),\n",
       " ('bank', 'NOUN'),\n",
       " ('bank', 'NOUN'),\n",
       " ('bank', 'NOUN'),\n",
       " ('Bank', 'NOUN'),\n",
       " ('Bank', 'NOUN'),\n",
       " ('Bank', 'NOUN'),\n",
       " ('Bank', 'NOUN'),\n",
       " ('bank', 'NOUN'),\n",
       " ('bank', 'NOUN'),\n",
       " ('bank', 'NOUN'),\n",
       " ('bank', 'NOUN'),\n",
       " ('bank', 'NOUN'),\n",
       " ('Bank', 'NOUN'),\n",
       " ('Bank', 'NOUN'),\n",
       " ('Bank', 'NOUN'),\n",
       " ('bank', 'NOUN'),\n",
       " ('Bank', 'NOUN'),\n",
       " ('Bank', 'NOUN'),\n",
       " ('bank', 'NOUN'),\n",
       " ('Bank', 'NOUN'),\n",
       " ('Bank', 'NOUN'),\n",
       " ('bank', 'NOUN'),\n",
       " ('bank', 'NOUN'),\n",
       " ('Bank', 'NOUN'),\n",
       " ('bank', 'NOUN'),\n",
       " ('bank', 'NOUN'),\n",
       " ('bank', 'NOUN'),\n",
       " ('Bank', 'NOUN'),\n",
       " ('bank', 'NOUN'),\n",
       " ('bank', 'NOUN'),\n",
       " ('bank', 'NOUN'),\n",
       " ('bank', 'NOUN'),\n",
       " ('bank', 'NOUN'),\n",
       " ('Bank', 'NOUN'),\n",
       " ('Bank', 'NOUN'),\n",
       " ('Bank', 'NOUN'),\n",
       " ('bank', 'NOUN'),\n",
       " ('Bank', 'NOUN'),\n",
       " ('Bank', 'NOUN'),\n",
       " ('Bank', 'NOUN'),\n",
       " ('Bank', 'NOUN'),\n",
       " ('Bank', 'NOUN'),\n",
       " ('Bank', 'NOUN'),\n",
       " ('Bank', 'NOUN'),\n",
       " ('Bank', 'NOUN'),\n",
       " ('Bank', 'NOUN'),\n",
       " ('bank', 'NOUN'),\n",
       " ('bank', 'NOUN'),\n",
       " ('Bank', 'NOUN'),\n",
       " ('bank', 'NOUN'),\n",
       " ('bank', 'NOUN'),\n",
       " ('Bank', 'NOUN'),\n",
       " ('bank', 'NOUN'),\n",
       " ('bank', 'NOUN'),\n",
       " ('bank', 'NOUN'),\n",
       " ('bank', 'NOUN'),\n",
       " ('bank', 'NOUN'),\n",
       " ('bank', 'NOUN'),\n",
       " ('bank', 'NOUN'),\n",
       " ('bank', 'NOUN'),\n",
       " ('Bank', 'NOUN'),\n",
       " ('bank', 'NOUN')]"
      ]
     },
     "execution_count": 9,
     "metadata": {},
     "output_type": "execute_result"
    }
   ],
   "source": [
    "bank = [pair for pair in tagged_words if pair[0].lower() == 'bank']\n",
    "bank"
   ]
  },
  {
   "cell_type": "code",
   "execution_count": 10,
   "metadata": {},
   "outputs": [
    {
     "data": {
      "text/plain": [
       "[('executive', 'NOUN'),\n",
       " ('executive', 'ADJ'),\n",
       " ('executive', 'ADJ'),\n",
       " ('executive', 'NOUN'),\n",
       " ('executive', 'NOUN'),\n",
       " ('executive', 'NOUN'),\n",
       " ('executive', 'NOUN'),\n",
       " ('executive', 'NOUN'),\n",
       " ('executive', 'NOUN'),\n",
       " ('executive', 'NOUN'),\n",
       " ('executive', 'NOUN'),\n",
       " ('executive', 'NOUN'),\n",
       " ('executive', 'NOUN'),\n",
       " ('executive', 'ADJ'),\n",
       " ('executive', 'ADJ'),\n",
       " ('executive', 'ADJ'),\n",
       " ('executive', 'NOUN'),\n",
       " ('executive', 'ADJ'),\n",
       " ('executive', 'NOUN'),\n",
       " ('executive', 'NOUN'),\n",
       " ('executive', 'NOUN'),\n",
       " ('executive', 'NOUN'),\n",
       " ('executive', 'NOUN'),\n",
       " ('executive', 'NOUN'),\n",
       " ('executive', 'NOUN'),\n",
       " ('executive', 'NOUN'),\n",
       " ('executive', 'ADJ'),\n",
       " ('executive', 'ADJ'),\n",
       " ('executive', 'ADJ'),\n",
       " ('executive', 'ADJ'),\n",
       " ('executive', 'ADJ'),\n",
       " ('executive', 'NOUN'),\n",
       " ('executive', 'NOUN'),\n",
       " ('executive', 'NOUN'),\n",
       " ('executive', 'NOUN'),\n",
       " ('executive', 'NOUN'),\n",
       " ('executive', 'ADJ'),\n",
       " ('executive', 'NOUN'),\n",
       " ('executive', 'NOUN'),\n",
       " ('executive', 'NOUN'),\n",
       " ('executive', 'ADJ'),\n",
       " ('executive', 'ADJ'),\n",
       " ('executive', 'ADJ'),\n",
       " ('executive', 'ADJ'),\n",
       " ('executive', 'ADJ'),\n",
       " ('executive', 'NOUN'),\n",
       " ('executive', 'NOUN'),\n",
       " ('executive', 'ADJ'),\n",
       " ('executive', 'ADJ'),\n",
       " ('executive', 'NOUN'),\n",
       " ('executive', 'ADJ'),\n",
       " ('executive', 'ADJ'),\n",
       " ('executive', 'NOUN'),\n",
       " ('executive', 'NOUN'),\n",
       " ('executive', 'ADJ'),\n",
       " ('executive', 'NOUN'),\n",
       " ('executive', 'ADJ'),\n",
       " ('executive', 'ADJ'),\n",
       " ('executive', 'NOUN'),\n",
       " ('executive', 'NOUN'),\n",
       " ('executive', 'NOUN'),\n",
       " ('executive', 'ADJ'),\n",
       " ('executive', 'NOUN'),\n",
       " ('executive', 'NOUN'),\n",
       " ('executive', 'ADJ'),\n",
       " ('executive', 'ADJ'),\n",
       " ('executive', 'NOUN'),\n",
       " ('executive', 'ADJ')]"
      ]
     },
     "execution_count": 10,
     "metadata": {},
     "output_type": "execute_result"
    }
   ],
   "source": [
    "executive = [pair for pair in tagged_words if pair[0].lower() == 'executive']\n",
    "executive"
   ]
  },
  {
   "cell_type": "code",
   "execution_count": 11,
   "metadata": {},
   "outputs": [
    {
     "name": "stdout",
     "output_type": "stream",
     "text": [
      "0.20694485402536125\n"
     ]
    },
    {
     "data": {
      "text/plain": [
       "[('named', 'VERB'),\n",
       " ('used', 'VERB'),\n",
       " ('caused', 'VERB'),\n",
       " ('exposed', 'VERB'),\n",
       " ('reported', 'VERB'),\n",
       " ('stopped', 'VERB'),\n",
       " ('reported', 'VERB'),\n",
       " ('studied', 'VERB'),\n",
       " ('led', 'VERB'),\n",
       " ('used', 'VERB'),\n",
       " ('replaced', 'VERB'),\n",
       " ('worked', 'VERB'),\n",
       " ('died', 'VERB'),\n",
       " ('expected', 'VERB'),\n",
       " ('diagnosed', 'VERB'),\n",
       " ('expected', 'VERB'),\n",
       " ('studied', 'VERB'),\n",
       " ('industrialized', 'VERB'),\n",
       " ('owned', 'VERB'),\n",
       " ('industrialized', 'VERB')]"
      ]
     },
     "execution_count": 11,
     "metadata": {},
     "output_type": "execute_result"
    }
   ],
   "source": [
    "#how many words with the tag 'VBD' (verb, past tense) end with 'ed'\n",
    "past_tense_verbs = [pair for pair in tagged_words if pair[1]=='VERB']\n",
    "ed_verbs = [pair for pair in past_tense_verbs if pair[0].endswith('ed')]\n",
    "print(len(ed_verbs) / len(past_tense_verbs))\n",
    "ed_verbs[:20]"
   ]
  },
  {
   "cell_type": "code",
   "execution_count": 12,
   "metadata": {},
   "outputs": [
    {
     "name": "stdout",
     "output_type": "stream",
     "text": [
      "0.10852255971689767\n"
     ]
    },
    {
     "data": {
      "text/plain": [
       "[('publishing', 'VERB'),\n",
       " ('causing', 'VERB'),\n",
       " ('using', 'VERB'),\n",
       " ('bring', 'VERB'),\n",
       " ('talking', 'VERB'),\n",
       " ('having', 'VERB'),\n",
       " ('making', 'VERB'),\n",
       " ('surviving', 'VERB'),\n",
       " ('including', 'VERB'),\n",
       " ('including', 'VERB'),\n",
       " ('according', 'VERB'),\n",
       " ('remaining', 'VERB'),\n",
       " ('according', 'VERB'),\n",
       " ('declining', 'VERB'),\n",
       " ('rising', 'VERB'),\n",
       " ('yielding', 'VERB'),\n",
       " ('waiving', 'VERB'),\n",
       " ('holding', 'VERB'),\n",
       " ('holding', 'VERB'),\n",
       " ('cutting', 'VERB')]"
      ]
     },
     "execution_count": 12,
     "metadata": {},
     "output_type": "execute_result"
    }
   ],
   "source": [
    "# how many words with the tag 'VBG' end with 'ing'\n",
    "participle_verbs = [pair for pair in tagged_words if pair[1]=='VERB']\n",
    "ing_verbs = [pair for pair in participle_verbs if pair[0].endswith('ing')]\n",
    "print(len(ing_verbs) / len(participle_verbs))\n",
    "ing_verbs[:20]"
   ]
  },
  {
   "cell_type": "code",
   "execution_count": 13,
   "metadata": {},
   "outputs": [
    {
     "name": "stdout",
     "output_type": "stream",
     "text": [
      "6397\n",
      "4474\n",
      "0.6993903392215101\n"
     ]
    }
   ],
   "source": [
    "# question: what fraction of adjectives  are followed by a noun \n",
    "\n",
    "# create a list of all tags (without the words)\n",
    "tags = [pair[1] for pair in tagged_words]\n",
    "\n",
    "# create a list of ADJ tags\n",
    "adj_tags = [t for t in tags if t == 'ADJ']\n",
    "\n",
    "# create a list of (ADJ, NOUN) tags\n",
    "adj_noun_tags = [(t, tags[index+1]) for index, t in enumerate(tags) \n",
    "              if t=='ADJ' and tags[index+1]=='NOUN']\n",
    "\n",
    "print(len(adj_tags))\n",
    "print(len(adj_noun_tags))\n",
    "print(len(adj_noun_tags) / len(adj_tags))"
   ]
  },
  {
   "cell_type": "code",
   "execution_count": 14,
   "metadata": {},
   "outputs": [
    {
     "name": "stdout",
     "output_type": "stream",
     "text": [
      "8725\n",
      "5569\n",
      "0.6382808022922636\n"
     ]
    }
   ],
   "source": [
    "# question: what fraction of determiners  are followed by a noun \n",
    "det_tags = [t for t in tags if t == 'DET']\n",
    "det_noun_tags = [(t, tags[index+1]) for index, t in enumerate(tags) \n",
    "              if t=='DET' and tags[index+1]=='NOUN']\n",
    "\n",
    "print(len(det_tags))\n",
    "print(len(det_noun_tags))\n",
    "print(len(det_noun_tags) / len(det_tags))"
   ]
  },
  {
   "cell_type": "code",
   "execution_count": 15,
   "metadata": {},
   "outputs": [
    {
     "name": "stdout",
     "output_type": "stream",
     "text": [
      "3718\n",
      "196\n",
      "[[('With', 'ADP'), ('membership', 'NOUN'), ('of', 'ADP'), ('the', 'DET'), ('Church', 'NOUN'), ('of', 'ADP'), ('England', 'NOUN'), ('steadily', 'ADV'), ('dwindling', 'VERB'), (',', '.'), ('strong-willed', 'ADJ'), ('vicars', 'NOUN'), ('are', 'VERB'), ('pressing', 'VERB'), ('equally', 'ADV'), ('strong-willed', 'ADJ'), ('and', 'CONJ'), ('often', 'ADV'), ('non-religious', 'ADJ'), ('ringers', 'NOUN'), ('to', 'PRT'), ('attend', 'VERB'), ('services', 'NOUN'), ('.', '.')], [('A', 'DET'), ('computer', 'NOUN'), ('using', 'VERB'), ('the', 'DET'), ('more-advanced', 'ADJ'), ('Intel', 'NOUN'), ('Corp.', 'NOUN'), ('386', 'NUM'), ('microprocessor', 'NOUN'), (',', '.'), ('with', 'ADP'), ('four', 'NUM'), ('megabytes', 'NOUN'), ('of', 'ADP'), ('memory', 'NOUN'), ('and', 'CONJ'), ('a', 'DET'), ('100-megabyte', 'ADJ'), ('hard', 'ADJ'), ('disk', 'NOUN'), ('now', 'ADV'), ('sells', 'VERB'), ('for', 'ADP'), ('$', '.'), ('5,699', 'NUM'), ('*U*', 'X'), (',', '.'), ('down', 'ADV'), ('from', 'ADP'), ('$', '.'), ('6,799', 'NUM'), ('*U*', 'X'), ('.', '.')], [('The', 'DET'), ('federal', 'ADJ'), ('government', 'NOUN'), ('suspended', 'VERB'), ('sales', 'NOUN'), ('of', 'ADP'), ('U.S.', 'NOUN'), ('savings', 'NOUN'), ('bonds', 'NOUN'), ('because', 'ADP'), ('Congress', 'NOUN'), ('has', 'VERB'), (\"n't\", 'ADV'), ('lifted', 'VERB'), ('the', 'DET'), ('ceiling', 'NOUN'), ('on', 'ADP'), ('government', 'NOUN'), ('debt', 'NOUN'), ('.', '.')]]\n"
     ]
    }
   ],
   "source": [
    "# Splitting into train and test\n",
    "random.seed(1234)\n",
    "train_set, test_set = train_test_split(nltk_data,test_size=0.05,random_state=67)\n",
    "\n",
    "print(len(train_set))\n",
    "print(len(test_set))\n",
    "print(train_set[:3])"
   ]
  },
  {
   "cell_type": "code",
   "execution_count": 16,
   "metadata": {},
   "outputs": [
    {
     "data": {
      "text/plain": [
       "'With membership of the Church of England steadily dwindling , strong-willed vicars are pressing equally strong-willed and often non-religious ringers to attend services .'"
      ]
     },
     "execution_count": 16,
     "metadata": {},
     "output_type": "execute_result"
    }
   ],
   "source": [
    "' '.join([word[0] for word in train_set[0] ])"
   ]
  },
  {
   "cell_type": "code",
   "execution_count": 17,
   "metadata": {},
   "outputs": [
    {
     "data": {
      "text/plain": [
       "\"The federal government suspended sales of U.S. savings bonds because Congress has n't lifted the ceiling on government debt .\""
      ]
     },
     "execution_count": 17,
     "metadata": {},
     "output_type": "execute_result"
    }
   ],
   "source": [
    "' '.join([word[0] for word in train_set[2] ])"
   ]
  },
  {
   "cell_type": "code",
   "execution_count": 18,
   "metadata": {},
   "outputs": [
    {
     "data": {
      "text/plain": [
       "\"Many arbs are `` overleveraged , '' she says 0 *T*-3 , and they `` have *-1 to sell when things look like they fall apart *T*-2 . ''\""
      ]
     },
     "execution_count": 18,
     "metadata": {},
     "output_type": "execute_result"
    }
   ],
   "source": [
    "' '.join([word[0] for word in train_set[3] ])"
   ]
  },
  {
   "cell_type": "code",
   "execution_count": 19,
   "metadata": {},
   "outputs": [
    {
     "data": {
      "text/plain": [
       "95341"
      ]
     },
     "execution_count": 19,
     "metadata": {},
     "output_type": "execute_result"
    }
   ],
   "source": [
    "# Getting list of tagged words\n",
    "train_tagged_words = [tup for sent in train_set for tup in sent]\n",
    "len(train_tagged_words)"
   ]
  },
  {
   "cell_type": "code",
   "execution_count": 20,
   "metadata": {},
   "outputs": [
    {
     "data": {
      "text/plain": [
       "['With',\n",
       " 'membership',\n",
       " 'of',\n",
       " 'the',\n",
       " 'Church',\n",
       " 'of',\n",
       " 'England',\n",
       " 'steadily',\n",
       " 'dwindling',\n",
       " ',']"
      ]
     },
     "execution_count": 20,
     "metadata": {},
     "output_type": "execute_result"
    }
   ],
   "source": [
    "# tokens \n",
    "tokens = [pair[0] for pair in train_tagged_words]\n",
    "tokens[:10]"
   ]
  },
  {
   "cell_type": "code",
   "execution_count": 21,
   "metadata": {},
   "outputs": [
    {
     "data": {
      "text/plain": [
       "[('With', 'ADP'),\n",
       " ('membership', 'NOUN'),\n",
       " ('of', 'ADP'),\n",
       " ('the', 'DET'),\n",
       " ('Church', 'NOUN'),\n",
       " ('of', 'ADP'),\n",
       " ('England', 'NOUN'),\n",
       " ('steadily', 'ADV'),\n",
       " ('dwindling', 'VERB'),\n",
       " (',', '.'),\n",
       " ('strong-willed', 'ADJ'),\n",
       " ('vicars', 'NOUN'),\n",
       " ('are', 'VERB'),\n",
       " ('pressing', 'VERB'),\n",
       " ('equally', 'ADV'),\n",
       " ('strong-willed', 'ADJ'),\n",
       " ('and', 'CONJ'),\n",
       " ('often', 'ADV'),\n",
       " ('non-religious', 'ADJ'),\n",
       " ('ringers', 'NOUN'),\n",
       " ('to', 'PRT'),\n",
       " ('attend', 'VERB'),\n",
       " ('services', 'NOUN'),\n",
       " ('.', '.'),\n",
       " ('A', 'DET'),\n",
       " ('computer', 'NOUN'),\n",
       " ('using', 'VERB'),\n",
       " ('the', 'DET'),\n",
       " ('more-advanced', 'ADJ'),\n",
       " ('Intel', 'NOUN'),\n",
       " ('Corp.', 'NOUN'),\n",
       " ('386', 'NUM'),\n",
       " ('microprocessor', 'NOUN'),\n",
       " (',', '.'),\n",
       " ('with', 'ADP'),\n",
       " ('four', 'NUM'),\n",
       " ('megabytes', 'NOUN'),\n",
       " ('of', 'ADP'),\n",
       " ('memory', 'NOUN'),\n",
       " ('and', 'CONJ'),\n",
       " ('a', 'DET'),\n",
       " ('100-megabyte', 'ADJ'),\n",
       " ('hard', 'ADJ'),\n",
       " ('disk', 'NOUN'),\n",
       " ('now', 'ADV'),\n",
       " ('sells', 'VERB'),\n",
       " ('for', 'ADP'),\n",
       " ('$', '.'),\n",
       " ('5,699', 'NUM'),\n",
       " ('*U*', 'X'),\n",
       " (',', '.'),\n",
       " ('down', 'ADV'),\n",
       " ('from', 'ADP'),\n",
       " ('$', '.'),\n",
       " ('6,799', 'NUM'),\n",
       " ('*U*', 'X'),\n",
       " ('.', '.'),\n",
       " ('The', 'DET'),\n",
       " ('federal', 'ADJ'),\n",
       " ('government', 'NOUN'),\n",
       " ('suspended', 'VERB'),\n",
       " ('sales', 'NOUN'),\n",
       " ('of', 'ADP'),\n",
       " ('U.S.', 'NOUN'),\n",
       " ('savings', 'NOUN'),\n",
       " ('bonds', 'NOUN'),\n",
       " ('because', 'ADP'),\n",
       " ('Congress', 'NOUN'),\n",
       " ('has', 'VERB'),\n",
       " (\"n't\", 'ADV'),\n",
       " ('lifted', 'VERB'),\n",
       " ('the', 'DET'),\n",
       " ('ceiling', 'NOUN'),\n",
       " ('on', 'ADP'),\n",
       " ('government', 'NOUN'),\n",
       " ('debt', 'NOUN'),\n",
       " ('.', '.'),\n",
       " ('Many', 'ADJ'),\n",
       " ('arbs', 'NOUN'),\n",
       " ('are', 'VERB'),\n",
       " ('``', '.'),\n",
       " ('overleveraged', 'ADJ'),\n",
       " (',', '.'),\n",
       " (\"''\", '.'),\n",
       " ('she', 'PRON'),\n",
       " ('says', 'VERB'),\n",
       " ('0', 'X'),\n",
       " ('*T*-3', 'X'),\n",
       " (',', '.'),\n",
       " ('and', 'CONJ'),\n",
       " ('they', 'PRON'),\n",
       " ('``', '.'),\n",
       " ('have', 'VERB'),\n",
       " ('*-1', 'X'),\n",
       " ('to', 'PRT'),\n",
       " ('sell', 'VERB'),\n",
       " ('when', 'ADV'),\n",
       " ('things', 'NOUN'),\n",
       " ('look', 'VERB'),\n",
       " ('like', 'ADP'),\n",
       " ('they', 'PRON'),\n",
       " ('fall', 'VERB'),\n",
       " ('apart', 'ADV'),\n",
       " ('*T*-2', 'X'),\n",
       " ('.', '.'),\n",
       " (\"''\", '.'),\n",
       " ('``', '.'),\n",
       " ('*', 'X'),\n",
       " ('Forget', 'VERB'),\n",
       " ('it', 'PRON'),\n",
       " (',', '.'),\n",
       " (\"''\", '.'),\n",
       " ('he', 'PRON'),\n",
       " ('said', 'VERB'),\n",
       " ('*T*-1', 'X'),\n",
       " ('as', 'ADP'),\n",
       " ('he', 'PRON'),\n",
       " ('handed', 'VERB'),\n",
       " ('her', 'PRON'),\n",
       " ('a', 'DET'),\n",
       " ('paper', 'NOUN'),\n",
       " ('.', '.'),\n",
       " ('Under', 'ADP'),\n",
       " ('a', 'DET'),\n",
       " ('1934', 'NUM'),\n",
       " ('law', 'NOUN'),\n",
       " (',', '.'),\n",
       " ('the', 'DET'),\n",
       " ('Johnson', 'NOUN'),\n",
       " ('Debt', 'NOUN'),\n",
       " ('Default', 'NOUN'),\n",
       " ('Act', 'NOUN'),\n",
       " (',', '.'),\n",
       " ('as', 'ADV'),\n",
       " ('*', 'X'),\n",
       " ('amended', 'VERB'),\n",
       " ('*-1', 'X'),\n",
       " (',', '.'),\n",
       " ('it', 'PRON'),\n",
       " ('*EXP*-2', 'X'),\n",
       " (\"'s\", 'VERB'),\n",
       " ('illegal', 'ADJ'),\n",
       " ('for', 'ADP'),\n",
       " ('Americans', 'NOUN'),\n",
       " ('to', 'PRT'),\n",
       " ('extend', 'VERB'),\n",
       " ('credit', 'NOUN'),\n",
       " ('to', 'PRT'),\n",
       " ('countries', 'NOUN'),\n",
       " ('in', 'ADP'),\n",
       " ('default', 'NOUN'),\n",
       " ('to', 'PRT'),\n",
       " ('the', 'DET'),\n",
       " ('U.S.', 'NOUN'),\n",
       " ('government', 'NOUN'),\n",
       " (',', '.'),\n",
       " ('unless', 'ADP'),\n",
       " ('they', 'PRON'),\n",
       " ('are', 'VERB'),\n",
       " ('members', 'NOUN'),\n",
       " ('of', 'ADP'),\n",
       " ('the', 'DET'),\n",
       " ('World', 'NOUN'),\n",
       " ('Bank', 'NOUN'),\n",
       " ('and', 'CONJ'),\n",
       " ('International', 'NOUN'),\n",
       " ('Monetary', 'NOUN'),\n",
       " ('Fund', 'NOUN'),\n",
       " ('.', '.'),\n",
       " ('Mr.', 'NOUN'),\n",
       " ('Russell', 'NOUN'),\n",
       " (',', '.'),\n",
       " ('who', 'PRON'),\n",
       " ('*T*-1', 'X'),\n",
       " ('co-founded', 'VERB'),\n",
       " ('the', 'DET'),\n",
       " ('Kansas', 'NOUN'),\n",
       " ('City', 'NOUN'),\n",
       " (',', '.'),\n",
       " ('Mo.-based', 'ADJ'),\n",
       " ('local', 'ADJ'),\n",
       " ('business', 'NOUN'),\n",
       " ('publications', 'NOUN'),\n",
       " ('concern', 'NOUN'),\n",
       " ('here', 'ADV'),\n",
       " (',', '.'),\n",
       " ('said', 'VERB'),\n",
       " ('0', 'X'),\n",
       " ('he', 'PRON'),\n",
       " ('would', 'VERB'),\n",
       " ('have', 'VERB'),\n",
       " ('a', 'DET'),\n",
       " ('five-year', 'ADJ'),\n",
       " ('consulting', 'NOUN'),\n",
       " ('agreement', 'NOUN'),\n",
       " ('with', 'ADP'),\n",
       " ('the', 'DET'),\n",
       " ('company', 'NOUN'),\n",
       " (',', '.'),\n",
       " ('which', 'DET'),\n",
       " ('*T*-2', 'X'),\n",
       " ('recently', 'ADV'),\n",
       " ('underwent', 'VERB'),\n",
       " ('an', 'DET'),\n",
       " ('ownership', 'NOUN'),\n",
       " ('change', 'NOUN'),\n",
       " ('.', '.'),\n",
       " ('The', 'DET'),\n",
       " ('average', 'ADJ'),\n",
       " ('seven-day', 'ADJ'),\n",
       " ('simple', 'ADJ'),\n",
       " ('yield', 'NOUN'),\n",
       " ('of', 'ADP'),\n",
       " ('the', 'DET'),\n",
       " ('400', 'NUM'),\n",
       " ('funds', 'NOUN'),\n",
       " ('was', 'VERB'),\n",
       " ('8.12', 'NUM'),\n",
       " ('%', 'NOUN'),\n",
       " (',', '.'),\n",
       " ('down', 'ADV'),\n",
       " ('from', 'ADP'),\n",
       " ('8.14', 'NUM'),\n",
       " ('%', 'NOUN'),\n",
       " ('.', '.'),\n",
       " ('While', 'ADP'),\n",
       " ('the', 'DET'),\n",
       " ('Senate', 'NOUN'),\n",
       " ('Commerce', 'NOUN'),\n",
       " ('Committee', 'NOUN'),\n",
       " ('has', 'VERB'),\n",
       " ('approved', 'VERB'),\n",
       " ('legislation', 'NOUN'),\n",
       " ('similar', 'ADJ'),\n",
       " ('to', 'PRT'),\n",
       " ('the', 'DET'),\n",
       " ('House', 'NOUN'),\n",
       " ('bill', 'NOUN'),\n",
       " ('on', 'ADP'),\n",
       " ('airline', 'NOUN'),\n",
       " ('leveraged', 'ADJ'),\n",
       " ('buy-outs', 'NOUN'),\n",
       " (',', '.'),\n",
       " ('the', 'DET'),\n",
       " ('measure', 'NOUN'),\n",
       " ('has', 'VERB'),\n",
       " (\"n't\", 'ADV'),\n",
       " ('yet', 'ADV'),\n",
       " ('come', 'VERB'),\n",
       " ('to', 'PRT'),\n",
       " ('the', 'DET'),\n",
       " ('full', 'ADJ'),\n",
       " ('floor', 'NOUN'),\n",
       " ('.', '.'),\n",
       " ('In', 'ADP'),\n",
       " ('Detroit', 'NOUN'),\n",
       " (',', '.'),\n",
       " ('a', 'DET'),\n",
       " ('Chrysler', 'NOUN'),\n",
       " ('Corp.', 'NOUN'),\n",
       " ('official', 'NOUN'),\n",
       " ('said', 'VERB'),\n",
       " ('0', 'X'),\n",
       " ('the', 'DET'),\n",
       " ('company', 'NOUN'),\n",
       " ('currently', 'ADV'),\n",
       " ('has', 'VERB'),\n",
       " ('no', 'DET'),\n",
       " ('rear-seat', 'NOUN'),\n",
       " ('lap', 'NOUN'),\n",
       " ('and', 'CONJ'),\n",
       " ('shoulder', 'NOUN'),\n",
       " ('belts', 'NOUN'),\n",
       " ('in', 'ADP'),\n",
       " ('its', 'PRON'),\n",
       " ('light', 'ADJ'),\n",
       " ('trucks', 'NOUN'),\n",
       " (',', '.'),\n",
       " ('but', 'CONJ'),\n",
       " ('plans', 'VERB'),\n",
       " ('*-1', 'X'),\n",
       " ('to', 'PRT'),\n",
       " ('begin', 'VERB'),\n",
       " ('*-2', 'X'),\n",
       " ('phasing', 'VERB'),\n",
       " ('them', 'PRON'),\n",
       " ('in', 'PRT'),\n",
       " ('by', 'ADP'),\n",
       " ('the', 'DET'),\n",
       " ('end', 'NOUN'),\n",
       " ('of', 'ADP'),\n",
       " ('the', 'DET'),\n",
       " ('1990', 'NUM'),\n",
       " ('model', 'NOUN'),\n",
       " ('year', 'NOUN'),\n",
       " ('.', '.'),\n",
       " ('Buying', 'VERB'),\n",
       " ('plans', 'NOUN'),\n",
       " ('were', 'VERB'),\n",
       " ('mixed', 'VERB'),\n",
       " ('in', 'ADP'),\n",
       " ('October', 'NOUN'),\n",
       " (',', '.'),\n",
       " ('with', 'ADP'),\n",
       " ('fewer', 'ADJ'),\n",
       " ('households', 'NOUN'),\n",
       " ('indicating', 'VERB'),\n",
       " ('plans', 'NOUN'),\n",
       " ('*', 'X'),\n",
       " ('to', 'PRT'),\n",
       " ('buy', 'VERB'),\n",
       " ('cars', 'NOUN'),\n",
       " ('and', 'CONJ'),\n",
       " ('more', 'ADV'),\n",
       " ('saying', 'VERB'),\n",
       " ('0', 'X'),\n",
       " ('they', 'PRON'),\n",
       " ('will', 'VERB'),\n",
       " ('buy', 'VERB'),\n",
       " ('homes', 'NOUN'),\n",
       " ('and', 'CONJ'),\n",
       " ('appliances', 'NOUN'),\n",
       " ('in', 'ADP'),\n",
       " ('the', 'DET'),\n",
       " ('coming', 'VERB'),\n",
       " ('six', 'NUM'),\n",
       " ('months', 'NOUN'),\n",
       " ('.', '.'),\n",
       " ('At', 'ADP'),\n",
       " ('the', 'DET'),\n",
       " ('same', 'ADJ'),\n",
       " ('time', 'NOUN'),\n",
       " (',', '.'),\n",
       " ('an', 'DET'),\n",
       " ('increase', 'NOUN'),\n",
       " ('of', 'ADP'),\n",
       " ('land', 'NOUN'),\n",
       " ('under', 'ADP'),\n",
       " ('cultivation', 'NOUN'),\n",
       " ('after', 'ADP'),\n",
       " ('the', 'DET'),\n",
       " ('drought', 'NOUN'),\n",
       " ('has', 'VERB'),\n",
       " ('boosted', 'VERB'),\n",
       " ('production', 'NOUN'),\n",
       " ('of', 'ADP'),\n",
       " ('corn', 'NOUN'),\n",
       " (',', '.'),\n",
       " ('soybeans', 'NOUN'),\n",
       " ('and', 'CONJ'),\n",
       " ('other', 'ADJ'),\n",
       " ('commodities', 'NOUN'),\n",
       " (',', '.'),\n",
       " ('*', 'X'),\n",
       " ('causing', 'VERB'),\n",
       " ('a', 'DET'),\n",
       " ('fall', 'NOUN'),\n",
       " ('in', 'ADP'),\n",
       " ('prices', 'NOUN'),\n",
       " ('that', 'DET'),\n",
       " ('*T*-2', 'X'),\n",
       " ('has', 'VERB'),\n",
       " ('been', 'VERB'),\n",
       " ('only', 'ADV'),\n",
       " ('partly', 'ADV'),\n",
       " ('cushioned', 'VERB'),\n",
       " ('*-3', 'X'),\n",
       " ('by', 'ADP'),\n",
       " ('heavy', 'ADJ'),\n",
       " ('grain', 'NOUN'),\n",
       " ('buying', 'NOUN'),\n",
       " ('by', 'ADP'),\n",
       " ('the', 'DET'),\n",
       " ('Soviets', 'NOUN'),\n",
       " ('.', '.'),\n",
       " ('Stock-index', 'NOUN'),\n",
       " ('arbitrage', 'NOUN'),\n",
       " ('--', '.'),\n",
       " ('*', 'X'),\n",
       " ('Buying', 'VERB'),\n",
       " ('or', 'CONJ'),\n",
       " ('selling', 'VERB'),\n",
       " ('baskets', 'NOUN'),\n",
       " ('of', 'ADP'),\n",
       " ('stocks', 'NOUN'),\n",
       " ('while', 'ADP'),\n",
       " ('at', 'ADP'),\n",
       " ('the', 'DET'),\n",
       " ('same', 'ADJ'),\n",
       " ('time', 'NOUN'),\n",
       " ('*-1', 'X'),\n",
       " ('executing', 'VERB'),\n",
       " ('offsetting', 'VERB'),\n",
       " ('trades', 'NOUN'),\n",
       " ('in', 'ADP'),\n",
       " ('stock-index', 'NOUN'),\n",
       " ('futures', 'NOUN'),\n",
       " ('or', 'CONJ'),\n",
       " ('options', 'NOUN'),\n",
       " ('.', '.'),\n",
       " ('The', 'DET'),\n",
       " ('$', '.'),\n",
       " ('35.7', 'NUM'),\n",
       " ('million', 'NUM'),\n",
       " ('*U*', 'X'),\n",
       " ('net', 'ADJ'),\n",
       " ('loss', 'NOUN'),\n",
       " ('equals', 'VERB'),\n",
       " ('86', 'NUM'),\n",
       " ('cents', 'NOUN'),\n",
       " ('a', 'DET'),\n",
       " ('share', 'NOUN'),\n",
       " ('.', '.'),\n",
       " ('More', 'ADV'),\n",
       " ('often', 'ADV'),\n",
       " ('than', 'ADP'),\n",
       " ('not', 'ADV'),\n",
       " (',', '.'),\n",
       " ('ringers', 'NOUN'),\n",
       " ('think', 'VERB'),\n",
       " ('of', 'ADP'),\n",
       " ('the', 'DET'),\n",
       " ('church', 'NOUN'),\n",
       " ('as', 'ADP'),\n",
       " ('something', 'NOUN'),\n",
       " ('stuck', 'VERB'),\n",
       " ('*', 'X'),\n",
       " ('on', 'ADP'),\n",
       " ('the', 'DET'),\n",
       " ('bottom', 'NOUN'),\n",
       " ('of', 'ADP'),\n",
       " ('the', 'DET'),\n",
       " ('belfry', 'NOUN'),\n",
       " ('.', '.'),\n",
       " ('Mr.', 'NOUN'),\n",
       " ('Otero', 'NOUN'),\n",
       " (',', '.'),\n",
       " ('who', 'PRON'),\n",
       " ('*T*-249', 'X'),\n",
       " ('apparently', 'ADV'),\n",
       " ('has', 'VERB'),\n",
       " ('an', 'DET'),\n",
       " ('unpublished', 'ADJ'),\n",
       " ('number', 'NOUN'),\n",
       " (',', '.'),\n",
       " ('also', 'ADV'),\n",
       " ('could', 'VERB'),\n",
       " (\"n't\", 'ADV'),\n",
       " ('be', 'VERB'),\n",
       " ('reached', 'VERB'),\n",
       " ('*-155', 'X'),\n",
       " ('.', '.'),\n",
       " ('Mr.', 'NOUN'),\n",
       " ('Sonnett', 'NOUN'),\n",
       " ('said', 'VERB'),\n",
       " ('0', 'X'),\n",
       " ('there', 'DET'),\n",
       " ('also', 'ADV'),\n",
       " ('may', 'VERB'),\n",
       " ('be', 'VERB'),\n",
       " ('other', 'ADJ'),\n",
       " ('circumstances', 'NOUN'),\n",
       " ('under', 'ADP'),\n",
       " ('which', 'DET'),\n",
       " ('individuals', 'NOUN'),\n",
       " ('would', 'VERB'),\n",
       " (\"n't\", 'ADV'),\n",
       " ('want', 'VERB'),\n",
       " ('the', 'DET'),\n",
       " ('government', 'NOUN'),\n",
       " ('to', 'PRT'),\n",
       " ('know', 'VERB'),\n",
       " ('0', 'X'),\n",
       " ('they', 'PRON'),\n",
       " ('had', 'VERB'),\n",
       " ('retained', 'VERB'),\n",
       " ('criminal', 'ADJ'),\n",
       " ('defense', 'NOUN'),\n",
       " ('lawyers', 'NOUN'),\n",
       " ('*T*-1', 'X'),\n",
       " ('.', '.'),\n",
       " ('If', 'ADP'),\n",
       " ('both', 'DET'),\n",
       " ('agencies', 'NOUN'),\n",
       " ('find', 'VERB'),\n",
       " ('violations', 'NOUN'),\n",
       " ('of', 'ADP'),\n",
       " ('the', 'DET'),\n",
       " ('U.S.', 'NOUN'),\n",
       " ('trade', 'NOUN'),\n",
       " ('law', 'NOUN'),\n",
       " (',', '.'),\n",
       " ('the', 'DET'),\n",
       " ('U.S.', 'NOUN'),\n",
       " ('would', 'VERB'),\n",
       " ('assess', 'VERB'),\n",
       " ('penalty', 'NOUN'),\n",
       " ('duties', 'NOUN'),\n",
       " ('on', 'ADP'),\n",
       " ('the', 'DET'),\n",
       " ('imports', 'NOUN'),\n",
       " (',', '.'),\n",
       " ('which', 'DET'),\n",
       " ('*T*-1', 'X'),\n",
       " ('already', 'ADV'),\n",
       " ('are', 'VERB'),\n",
       " ('subject', 'ADJ'),\n",
       " ('to', 'PRT'),\n",
       " ('import', 'NOUN'),\n",
       " ('quotas', 'NOUN'),\n",
       " ('under', 'ADP'),\n",
       " ('bilateral', 'ADJ'),\n",
       " ('textile', 'NOUN'),\n",
       " ('and', 'CONJ'),\n",
       " ('apparel', 'NOUN'),\n",
       " ('trade', 'NOUN'),\n",
       " ('agreements', 'NOUN'),\n",
       " ('.', '.'),\n",
       " ('Judie', 'NOUN'),\n",
       " ('MacDonald', 'NOUN'),\n",
       " (',', '.'),\n",
       " ('vice', 'NOUN'),\n",
       " ('president', 'NOUN'),\n",
       " ('of', 'ADP'),\n",
       " ('retail', 'ADJ'),\n",
       " ('sales', 'NOUN'),\n",
       " ('at', 'ADP'),\n",
       " ('Barnett', 'NOUN'),\n",
       " ('Banks', 'NOUN'),\n",
       " ('Inc.', 'NOUN'),\n",
       " ('of', 'ADP'),\n",
       " ('Jacksonville', 'NOUN'),\n",
       " (',', '.'),\n",
       " ('Fla.', 'NOUN'),\n",
       " (',', '.'),\n",
       " ('says', 'VERB'),\n",
       " ('0', 'X'),\n",
       " ('the', 'DET'),\n",
       " ('company', 'NOUN'),\n",
       " ('now', 'ADV'),\n",
       " ('targets', 'VERB'),\n",
       " ('sub-segments', 'NOUN'),\n",
       " ('within', 'ADP'),\n",
       " ('the', 'DET'),\n",
       " ('market', 'NOUN'),\n",
       " ('by', 'ADP'),\n",
       " ('*-1', 'X'),\n",
       " ('tailoring', 'VERB'),\n",
       " ('its', 'PRON'),\n",
       " ('popular', 'ADJ'),\n",
       " ('Seniors', 'NOUN'),\n",
       " ('Partners', 'NOUN'),\n",
       " ('Program', 'NOUN'),\n",
       " ('to', 'PRT'),\n",
       " ('various', 'ADJ'),\n",
       " ('life', 'NOUN'),\n",
       " ('styles', 'NOUN'),\n",
       " ('.', '.'),\n",
       " ('Yet', 'ADV'),\n",
       " ('this', 'DET'),\n",
       " ('woman', 'NOUN'),\n",
       " (',', '.'),\n",
       " ('Marie-Louise', 'NOUN'),\n",
       " ('Giraud', 'NOUN'),\n",
       " (',', '.'),\n",
       " ('carries', 'VERB'),\n",
       " ('historical', 'ADJ'),\n",
       " ('significance', 'NOUN'),\n",
       " (',', '.'),\n",
       " ('both', 'DET'),\n",
       " ('as', 'ADP'),\n",
       " ('one', 'NUM'),\n",
       " ('of', 'ADP'),\n",
       " ('the', 'DET'),\n",
       " ('last', 'ADJ'),\n",
       " ('women', 'NOUN'),\n",
       " ('0', 'X'),\n",
       " ('*T*-1', 'X'),\n",
       " ('to', 'PRT'),\n",
       " ('be', 'VERB'),\n",
       " ('executed', 'VERB'),\n",
       " ('*-2', 'X'),\n",
       " ('in', 'ADP'),\n",
       " ('France', 'NOUN'),\n",
       " ('and', 'CONJ'),\n",
       " ('as', 'ADP'),\n",
       " ('a', 'DET'),\n",
       " ('symbol', 'NOUN'),\n",
       " ('of', 'ADP'),\n",
       " ('the', 'DET'),\n",
       " ('Vichy', 'NOUN'),\n",
       " ('government', 'NOUN'),\n",
       " (\"'s\", 'PRT'),\n",
       " ('hypocrisy', 'NOUN'),\n",
       " ('.', '.'),\n",
       " ('The', 'DET'),\n",
       " ('Big', 'NOUN'),\n",
       " ('Board', 'NOUN'),\n",
       " (\"'s\", 'PRT'),\n",
       " ('uptick', 'NOUN'),\n",
       " ('rule', 'NOUN'),\n",
       " ('prevents', 'VERB'),\n",
       " ('the', 'DET'),\n",
       " ('short', 'ADJ'),\n",
       " ('sale', 'NOUN'),\n",
       " ('of', 'ADP'),\n",
       " ('a', 'DET'),\n",
       " ('stock', 'NOUN'),\n",
       " ('when', 'ADV'),\n",
       " ('the', 'DET'),\n",
       " ('stock', 'NOUN'),\n",
       " ('is', 'VERB'),\n",
       " ('falling', 'VERB'),\n",
       " ('in', 'ADP'),\n",
       " ('price', 'NOUN'),\n",
       " ('*T*-1', 'X'),\n",
       " ('.', '.'),\n",
       " ('Always', 'ADV'),\n",
       " ('.', '.'),\n",
       " ('Fifteen', 'NUM'),\n",
       " ('of', 'ADP'),\n",
       " ('the', 'DET'),\n",
       " ('26', 'NUM'),\n",
       " ('subcommittee', 'NOUN'),\n",
       " ('members', 'NOUN'),\n",
       " ('*ICH*-2', 'X'),\n",
       " ('attended', 'VERB'),\n",
       " ('the', 'DET'),\n",
       " ('hearing', 'NOUN'),\n",
       " (',', '.'),\n",
       " ('most', 'ADV'),\n",
       " ('notably', 'ADV'),\n",
       " ('Rep.', 'NOUN'),\n",
       " ('John', 'NOUN'),\n",
       " ('Dingell', 'NOUN'),\n",
       " ('-LRB-', '.'),\n",
       " ('D.', 'NOUN'),\n",
       " (',', '.'),\n",
       " ('Mich.', 'NOUN'),\n",
       " ('-RRB-', '.'),\n",
       " (',', '.'),\n",
       " ('the', 'DET'),\n",
       " ('full', 'ADJ'),\n",
       " ('House', 'NOUN'),\n",
       " ('Energy', 'NOUN'),\n",
       " ('and', 'CONJ'),\n",
       " ('Commerce', 'NOUN'),\n",
       " ('Committee', 'NOUN'),\n",
       " ('chairman', 'NOUN'),\n",
       " (',', '.'),\n",
       " ('who', 'PRON'),\n",
       " ('*T*-216', 'X'),\n",
       " ('has', 'VERB'),\n",
       " ('been', 'VERB'),\n",
       " ('willing', 'ADJ'),\n",
       " ('*-1', 'X'),\n",
       " ('to', 'PRT'),\n",
       " ('let', 'VERB'),\n",
       " ('Mr.', 'NOUN'),\n",
       " ('Markey', 'NOUN'),\n",
       " ('carry', 'VERB'),\n",
       " ('the', 'DET'),\n",
       " ('legislation', 'NOUN'),\n",
       " ('in', 'ADP'),\n",
       " ('recent', 'ADJ'),\n",
       " ('months', 'NOUN'),\n",
       " ('.', '.'),\n",
       " ('Its', 'PRON'),\n",
       " ('cereal', 'NOUN'),\n",
       " ('division', 'NOUN'),\n",
       " ('realized', 'VERB'),\n",
       " ('higher', 'ADJ'),\n",
       " ('operating', 'VERB'),\n",
       " ('profit', 'NOUN'),\n",
       " ('on', 'ADP'),\n",
       " ('volume', 'NOUN'),\n",
       " ('increases', 'NOUN'),\n",
       " (',', '.'),\n",
       " ('but', 'CONJ'),\n",
       " ('also', 'ADV'),\n",
       " ('spent', 'VERB'),\n",
       " ('more', 'ADJ'),\n",
       " ('on', 'ADP'),\n",
       " ('promotion', 'NOUN'),\n",
       " ('.', '.'),\n",
       " ('Also', 'ADV'),\n",
       " (',', '.'),\n",
       " ('a', 'DET'),\n",
       " ('Communist', 'NOUN'),\n",
       " ('official', 'NOUN'),\n",
       " ('for', 'ADP'),\n",
       " ('the', 'DET'),\n",
       " ('first', 'ADJ'),\n",
       " ('time', 'NOUN'),\n",
       " ('said', 'VERB'),\n",
       " ('0', 'X'),\n",
       " ('the', 'DET'),\n",
       " ('future', 'NOUN'),\n",
       " ('of', 'ADP'),\n",
       " ('the', 'DET'),\n",
       " ('Berlin', 'NOUN'),\n",
       " ('Wall', 'NOUN'),\n",
       " ('could', 'VERB'),\n",
       " ('be', 'VERB'),\n",
       " ('open', 'ADJ'),\n",
       " ('to', 'PRT'),\n",
       " ('discussion', 'NOUN'),\n",
       " ('.', '.'),\n",
       " ('Campbell', 'NOUN'),\n",
       " ('officials', 'NOUN'),\n",
       " ('said', 'VERB'),\n",
       " ('0', 'X'),\n",
       " ('Mr.', 'NOUN'),\n",
       " ('McGovern', 'NOUN'),\n",
       " ('was', 'VERB'),\n",
       " (\"n't\", 'ADV'),\n",
       " ('available', 'ADJ'),\n",
       " ('*ICH*-2', 'X'),\n",
       " ('yesterday', 'NOUN'),\n",
       " ('*-1', 'X'),\n",
       " ('to', 'PRT'),\n",
       " ('discuss', 'VERB'),\n",
       " ('the', 'DET'),\n",
       " ('circumstances', 'NOUN'),\n",
       " ('of', 'ADP'),\n",
       " ('his', 'PRON'),\n",
       " ('departure', 'NOUN'),\n",
       " ('.', '.'),\n",
       " ('He', 'PRON'),\n",
       " ('also', 'ADV'),\n",
       " ('is', 'VERB'),\n",
       " ('a', 'DET'),\n",
       " ('consensus', 'NOUN'),\n",
       " ('manager', 'NOUN'),\n",
       " (',', '.'),\n",
       " ('insiders', 'NOUN'),\n",
       " ('say', 'VERB'),\n",
       " ('0', 'X'),\n",
       " ('*T*-1', 'X'),\n",
       " ('.', '.'),\n",
       " ('``', '.'),\n",
       " ('Insurance', 'NOUN'),\n",
       " ('agents', 'NOUN'),\n",
       " ('have', 'VERB'),\n",
       " ('been', 'VERB'),\n",
       " ('forced', 'VERB'),\n",
       " ('*-158', 'X'),\n",
       " ('by', 'ADP'),\n",
       " ('their', 'PRON'),\n",
       " ('companies', 'NOUN'),\n",
       " ('into', 'ADP'),\n",
       " ('*-2', 'X'),\n",
       " ('becoming', 'VERB'),\n",
       " ('registered', 'VERB'),\n",
       " ('reps', 'NOUN'),\n",
       " (',', '.'),\n",
       " (\"''\", '.'),\n",
       " ('he', 'PRON'),\n",
       " ('said', 'VERB'),\n",
       " ('*T*-1', 'X'),\n",
       " (',', '.'),\n",
       " ('``', '.'),\n",
       " ('but', 'CONJ'),\n",
       " ('they', 'PRON'),\n",
       " ('are', 'VERB'),\n",
       " ('not', 'ADV'),\n",
       " ('providing', 'VERB'),\n",
       " ('compliance', 'NOUN'),\n",
       " ('and', 'CONJ'),\n",
       " ('security-type', 'ADJ'),\n",
       " ('training', 'NOUN'),\n",
       " ('so', 'ADP'),\n",
       " ('that', 'ADP'),\n",
       " ('we', 'PRON'),\n",
       " ('can', 'VERB'),\n",
       " ('avoid', 'VERB'),\n",
       " ('stupid', 'ADJ'),\n",
       " ('mistakes', 'NOUN'),\n",
       " ('.', '.'),\n",
       " (\"''\", '.'),\n",
       " ('--', '.'),\n",
       " ('$', '.'),\n",
       " ('10', 'NUM'),\n",
       " ('billion', 'NUM'),\n",
       " ('*U*', 'X'),\n",
       " ('of', 'ADP'),\n",
       " ('10-year', 'ADJ'),\n",
       " ('notes', 'NOUN'),\n",
       " (',', '.'),\n",
       " ('0', 'X'),\n",
       " ('*T*-1', 'X'),\n",
       " ('to', 'PRT'),\n",
       " ('be', 'VERB'),\n",
       " ('auctioned', 'VERB'),\n",
       " ('*-109', 'X'),\n",
       " ('Wednesday', 'NOUN'),\n",
       " ('and', 'CONJ'),\n",
       " ('to', 'PRT'),\n",
       " ('mature', 'VERB'),\n",
       " ('Nov.', 'NOUN'),\n",
       " ('15', 'NUM'),\n",
       " (',', '.'),\n",
       " ('1999', 'NUM'),\n",
       " ('.', '.'),\n",
       " ('``', '.'),\n",
       " ('But', 'CONJ'),\n",
       " ('now', 'ADV'),\n",
       " (',', '.'),\n",
       " ('there', 'DET'),\n",
       " ('seems', 'VERB'),\n",
       " ('*-2', 'X'),\n",
       " ('to', 'PRT'),\n",
       " ('be', 'VERB'),\n",
       " ('a', 'DET'),\n",
       " ('fairly', 'ADV'),\n",
       " ('systematic', 'ADJ'),\n",
       " ('effort', 'NOUN'),\n",
       " ('*', 'X'),\n",
       " ('to', 'PRT'),\n",
       " ('address', 'VERB'),\n",
       " ('the', 'DET'),\n",
       " ('problem', 'NOUN'),\n",
       " (',', '.'),\n",
       " (\"''\", '.'),\n",
       " ('said', 'VERB'),\n",
       " ('*T*-1', 'X'),\n",
       " ('Chuck', 'NOUN'),\n",
       " ('Hurley', 'NOUN'),\n",
       " (',', '.'),\n",
       " ('vice', 'NOUN'),\n",
       " ('president', 'NOUN'),\n",
       " ('of', 'ADP'),\n",
       " ('communications', 'NOUN'),\n",
       " ('for', 'ADP'),\n",
       " ('the', 'DET'),\n",
       " ('Insurance', 'NOUN'),\n",
       " ('Institute', 'NOUN'),\n",
       " ('for', 'ADP'),\n",
       " ('Highway', 'NOUN'),\n",
       " ('Safety', 'NOUN'),\n",
       " ('.', '.'),\n",
       " ('Some', 'DET'),\n",
       " ('of', 'ADP'),\n",
       " ('the', 'DET'),\n",
       " ('homeless', 'NOUN'),\n",
       " (',', '.'),\n",
       " ('obviously', 'ADV'),\n",
       " (',', '.'),\n",
       " ('had', 'VERB'),\n",
       " ('pre-existing', 'ADJ'),\n",
       " ('mental', 'ADJ'),\n",
       " ('illness', 'NOUN'),\n",
       " ('or', 'CONJ'),\n",
       " ('addiction', 'NOUN'),\n",
       " ('.', '.'),\n",
       " ('The', 'DET'),\n",
       " ('firmness', 'NOUN'),\n",
       " ('in', 'ADP'),\n",
       " ('heating', 'NOUN'),\n",
       " ('oil', 'NOUN'),\n",
       " ('was', 'VERB'),\n",
       " ('attributed', 'VERB'),\n",
       " ('*-1', 'X'),\n",
       " ('to', 'PRT'),\n",
       " ('colder', 'ADJ'),\n",
       " ('weather', 'NOUN'),\n",
       " ('in', 'ADP'),\n",
       " ('parts', 'NOUN'),\n",
       " ('of', 'ADP'),\n",
       " ('the', 'DET'),\n",
       " ('U.S.', 'NOUN'),\n",
       " ('and', 'CONJ'),\n",
       " ('to', 'PRT'),\n",
       " ('the', 'DET'),\n",
       " ('latest', 'ADJ'),\n",
       " ('weekly', 'ADJ'),\n",
       " ('report', 'NOUN'),\n",
       " ('by', 'ADP'),\n",
       " ('the', 'DET'),\n",
       " ('American', 'NOUN'),\n",
       " ('Petroleum', 'NOUN'),\n",
       " ('Institute', 'NOUN'),\n",
       " (',', '.'),\n",
       " ('which', 'DET'),\n",
       " ('*T*-2', 'X'),\n",
       " ('showed', 'VERB'),\n",
       " ('a', 'DET'),\n",
       " ('decline', 'NOUN'),\n",
       " ('in', 'ADP'),\n",
       " ('inventories', 'NOUN'),\n",
       " ('of', 'ADP'),\n",
       " ('the', 'DET'),\n",
       " ('fuel', 'NOUN'),\n",
       " ('.', '.'),\n",
       " ('The', 'DET'),\n",
       " ('Underwood', 'NOUN'),\n",
       " ('family', 'NOUN'),\n",
       " ('said', 'VERB'),\n",
       " ('that', 'ADP'),\n",
       " ('holders', 'NOUN'),\n",
       " ('of', 'ADP'),\n",
       " ('more', 'ADJ'),\n",
       " ('than', 'ADP'),\n",
       " ('a', 'DET'),\n",
       " ('majority', 'NOUN'),\n",
       " ('of', 'ADP'),\n",
       " ('the', 'DET'),\n",
       " ('stock', 'NOUN'),\n",
       " ('of', 'ADP'),\n",
       " ('the', 'DET'),\n",
       " ('company', 'NOUN'),\n",
       " ('have', 'VERB'),\n",
       " ('approved', 'VERB'),\n",
       " ('the', 'DET'),\n",
       " ('transaction', 'NOUN'),\n",
       " ('by', 'ADP'),\n",
       " ('written', 'VERB'),\n",
       " ('consent', 'NOUN'),\n",
       " ('.', '.'),\n",
       " ('Trading', 'NOUN'),\n",
       " ('companies', 'NOUN'),\n",
       " ('such', 'ADJ'),\n",
       " ('as', 'ADP'),\n",
       " ('Mitsubishi', 'NOUN'),\n",
       " (',', '.'),\n",
       " ('Mitsui', 'NOUN'),\n",
       " (',', '.'),\n",
       " ('C.', 'NOUN'),\n",
       " ('Itoh', 'NOUN'),\n",
       " ('&', 'CONJ'),\n",
       " ('Co.', 'NOUN'),\n",
       " ('and', 'CONJ'),\n",
       " ('Nissho-Iwai', 'NOUN'),\n",
       " ('Corp.', 'NOUN'),\n",
       " (',', '.'),\n",
       " ('which', 'DET'),\n",
       " ('*T*-193', 'X'),\n",
       " ('make', 'VERB'),\n",
       " ('many', 'ADJ'),\n",
       " ('of', 'ADP'),\n",
       " ('the', 'DET'),\n",
       " ('Japanese', 'ADJ'),\n",
       " ('investments', 'NOUN'),\n",
       " ('in', 'ADP'),\n",
       " ('small', 'ADJ'),\n",
       " ('U.S.', 'NOUN'),\n",
       " ('concerns', 'NOUN'),\n",
       " (',', '.'),\n",
       " ('have', 'VERB'),\n",
       " ('no', 'DET'),\n",
       " ('U.S.', 'NOUN'),\n",
       " ('counterpart', 'NOUN'),\n",
       " ('.', '.'),\n",
       " ('McDermott', 'NOUN'),\n",
       " ('International', 'NOUN'),\n",
       " ('Inc.', 'NOUN'),\n",
       " ('said', 'VERB'),\n",
       " ('0', 'X'),\n",
       " ('its', 'PRON'),\n",
       " ('Babcock', 'NOUN'),\n",
       " ('&', 'CONJ'),\n",
       " ('Wilcox', 'NOUN'),\n",
       " ('unit', 'NOUN'),\n",
       " ('completed', 'VERB'),\n",
       " ('the', 'DET'),\n",
       " ('sale', 'NOUN'),\n",
       " ('of', 'ADP'),\n",
       " ('its', 'PRON'),\n",
       " ('Bailey', 'NOUN'),\n",
       " ('Controls', 'NOUN'),\n",
       " ('Operations', 'NOUN'),\n",
       " ('to', 'PRT'),\n",
       " ('Finmeccanica', 'NOUN'),\n",
       " ('S.p', 'NOUN'),\n",
       " ('.', '.'),\n",
       " ('A.', 'NOUN'),\n",
       " ('for', 'ADP'),\n",
       " ('$', '.'),\n",
       " ('295', 'NUM'),\n",
       " ('million', 'NUM'),\n",
       " ('*U*', 'X'),\n",
       " ('.', '.'),\n",
       " ('It', 'PRON'),\n",
       " ('said', 'VERB'),\n",
       " ('that', 'ADP'),\n",
       " ('the', 'DET'),\n",
       " ('``', '.'),\n",
       " ('temptation', 'NOUN'),\n",
       " ('*ICH*-2', 'X'),\n",
       " ('for', 'ADP'),\n",
       " ('managements', 'NOUN'),\n",
       " ('*', 'X'),\n",
       " ('to', 'PRT'),\n",
       " ('ease', 'VERB'),\n",
       " ('this', 'DET'),\n",
       " ('profit', 'NOUN'),\n",
       " ('pressure', 'NOUN'),\n",
       " ('by', 'ADP'),\n",
       " ('*-1', 'X'),\n",
       " ('taking', 'VERB'),\n",
       " ...]"
      ]
     },
     "execution_count": 21,
     "metadata": {},
     "output_type": "execute_result"
    }
   ],
   "source": [
    "train_tagged_words"
   ]
  },
  {
   "cell_type": "code",
   "execution_count": 22,
   "metadata": {},
   "outputs": [
    {
     "name": "stdout",
     "output_type": "stream",
     "text": [
      "12071\n"
     ]
    }
   ],
   "source": [
    "# vocabulary\n",
    "V = set(tokens)\n",
    "print(len(V))"
   ]
  },
  {
   "cell_type": "code",
   "execution_count": 23,
   "metadata": {},
   "outputs": [
    {
     "data": {
      "text/plain": [
       "12"
      ]
     },
     "execution_count": 23,
     "metadata": {},
     "output_type": "execute_result"
    }
   ],
   "source": [
    "# number of tags\n",
    "T = set([pair[1] for pair in train_tagged_words])\n",
    "len(T)"
   ]
  },
  {
   "cell_type": "markdown",
   "metadata": {},
   "source": [
    "### POS Tagging Algorithm - HMM\n",
    "\n",
    "1. Tagged Treebank corpus is available (Sample data to training and test data set)\n",
    "   - Basic text and structure exploration\n",
    "2. Creating HMM model on the tagged data set.\n",
    "   - Calculating Emission Probabaility: P(observation|state)\n",
    "   - Calculating Transition Probability: P(state2|state1)\n",
    "3. Developing algorithm for Viterbi Heuristic\n",
    "4. Checking accuracy on the test data set"
   ]
  },
  {
   "cell_type": "code",
   "execution_count": 24,
   "metadata": {},
   "outputs": [],
   "source": [
    "# computing P(w/t) and storing in T x V matrix\n",
    "t = len(T)\n",
    "v = len(V)\n",
    "w_given_t = np.zeros((t, v))"
   ]
  },
  {
   "cell_type": "code",
   "execution_count": 25,
   "metadata": {},
   "outputs": [
    {
     "name": "stdout",
     "output_type": "stream",
     "text": [
      "{'DET', 'PRT', 'PRON', 'ADP', 'VERB', 'NOUN', 'CONJ', 'ADJ', '.', 'X', 'NUM', 'ADV'}\n"
     ]
    }
   ],
   "source": [
    "print(T)"
   ]
  },
  {
   "cell_type": "code",
   "execution_count": 26,
   "metadata": {},
   "outputs": [
    {
     "name": "stdout",
     "output_type": "stream",
     "text": [
      "[((',', '.'), 4628), (('the', 'DET'), 3837), (('.', '.'), 3636), (('of', 'ADP'), 2190), (('to', 'PRT'), 2049), (('a', 'DET'), 1775), (('in', 'ADP'), 1469), (('and', 'CONJ'), 1427), (('*-1', 'X'), 1060), (('0', 'X'), 1036)]\n"
     ]
    }
   ],
   "source": [
    "from collections import Counter\n",
    "print(Counter([pair for pair in train_tagged_words]).most_common(10))"
   ]
  },
  {
   "cell_type": "code",
   "execution_count": 27,
   "metadata": {},
   "outputs": [
    {
     "name": "stdout",
     "output_type": "stream",
     "text": [
      "[(('the', 'DET'), 3837), (('the', 'ADJ'), 5), (('the', 'NUM'), 1), (('the', 'NOUN'), 1)]\n",
      "[(('and', 'CONJ'), 1427), (('and', 'ADJ'), 3), (('and', 'NOUN'), 2), (('and', 'ADP'), 1)]\n",
      "[(('in', 'ADP'), 1469), (('in', 'PRT'), 12), (('in', 'ADV'), 2), (('in', 'NOUN'), 1)]\n"
     ]
    }
   ],
   "source": [
    "print(Counter([pair for pair in train_tagged_words if pair[0]=='the']).most_common(10))\n",
    "print(Counter([pair for pair in train_tagged_words if pair[0]=='and']).most_common(10))\n",
    "print(Counter([pair for pair in train_tagged_words if pair[0]=='in']).most_common(10))"
   ]
  },
  {
   "cell_type": "code",
   "execution_count": 28,
   "metadata": {},
   "outputs": [],
   "source": [
    "# compute word given tag: Emission Probability\n",
    "def word_given_tag(word, tag, train_bag = train_tagged_words):\n",
    "    tag_list = [pair for pair in train_bag if pair[1]==tag]\n",
    "    count_tag = len(tag_list)\n",
    "    w_given_tag_list = [pair[0] for pair in tag_list if pair[0]==word]\n",
    "    count_w_given_tag = len(w_given_tag_list)\n",
    "    \n",
    "    return (count_w_given_tag, count_tag)"
   ]
  },
  {
   "cell_type": "code",
   "execution_count": 29,
   "metadata": {},
   "outputs": [
    {
     "name": "stdout",
     "output_type": "stream",
     "text": [
      "\n",
      " the\n",
      "(3837, 8292)\n",
      "(5, 6041)\n",
      "(1, 27342)\n",
      "\n",
      " and\n",
      "(1427, 2155)\n",
      "(3, 6041)\n",
      "(1, 9322) \n",
      "\n",
      "\n",
      " in\n",
      "(1469, 9322)\n",
      "(12, 3041)\n",
      "(2, 3005) \n",
      "\n"
     ]
    }
   ],
   "source": [
    "# examples\n",
    "\n",
    "# the\n",
    "print(\"\\n\", \"the\")\n",
    "print(word_given_tag('the', 'DET'))\n",
    "print(word_given_tag('the', 'ADJ'))\n",
    "print(word_given_tag('the', 'NOUN'))\n",
    "\n",
    "# and\n",
    "print(\"\\n\", \"and\")\n",
    "print(word_given_tag('and', 'CONJ'))\n",
    "print(word_given_tag('and', 'ADJ'))\n",
    "print(word_given_tag('and', 'ADP'), \"\\n\")\n",
    "\n",
    "# book\n",
    "print(\"\\n\", \"in\")\n",
    "print(word_given_tag('in', 'ADP'))\n",
    "print(word_given_tag('in', 'PRT'))\n",
    "print(word_given_tag('in', 'ADV'), \"\\n\")"
   ]
  },
  {
   "cell_type": "code",
   "execution_count": 30,
   "metadata": {},
   "outputs": [],
   "source": [
    "# compute tag given tag: tag2(t2) given tag1 (t1), i.e. Transition Probability\n",
    "\n",
    "def t2_given_t1(t2, t1, train_bag = train_tagged_words):\n",
    "    tags = [pair[1] for pair in train_bag]\n",
    "    count_t1 = len([t for t in tags if t==t1])\n",
    "    count_t2_t1 = 0\n",
    "    for index in range(len(tags)-1):\n",
    "        if tags[index]==t1 and tags[index+1] == t2:\n",
    "            count_t2_t1 += 1\n",
    "    return (count_t2_t1, count_t1)"
   ]
  },
  {
   "cell_type": "code",
   "execution_count": 31,
   "metadata": {},
   "outputs": [
    {
     "name": "stdout",
     "output_type": "stream",
     "text": [
      "(5313, 8292)\n",
      "(2996, 9322)\n",
      "(96, 3005)\n",
      "(1421, 12836)\n",
      "(333, 27342)\n",
      "(650, 9322)\n",
      "(4008, 27342)\n"
     ]
    }
   ],
   "source": [
    "# examples\n",
    "print(t2_given_t1(t2='NOUN', t1='DET'))\n",
    "print(t2_given_t1('NOUN', 'ADP'))\n",
    "print(t2_given_t1('NOUN', 'ADV'))\n",
    "print(t2_given_t1('NOUN', 'VERB'))\n",
    "print(t2_given_t1('ADJ', 'NOUN'))\n",
    "print(t2_given_t1('PRON', 'ADP'))\n",
    "print(t2_given_t1('VERB', 'NOUN'))"
   ]
  },
  {
   "cell_type": "code",
   "execution_count": 32,
   "metadata": {},
   "outputs": [
    {
     "name": "stdout",
     "output_type": "stream",
     "text": [
      "(1935, 11105)\n",
      "(977, 11105)\n",
      "(2469, 11105)\n",
      "(1013, 11105)\n"
     ]
    }
   ],
   "source": [
    "#Please note P(tag|start) is same as P(tag|'.')\n",
    "print(t2_given_t1('DET', '.'))\n",
    "print(t2_given_t1('VERB', '.'))\n",
    "print(t2_given_t1('NOUN', '.'))\n",
    "print(t2_given_t1('ADP', '.'))"
   ]
  },
  {
   "cell_type": "code",
   "execution_count": 33,
   "metadata": {},
   "outputs": [],
   "source": [
    "# creating t x t transition matrix of tags\n",
    "# each column is t2, each row is t1\n",
    "# thus M(i, j) represents P(tj given ti)\n",
    "\n",
    "tags_matrix = np.zeros((len(T), len(T)), dtype='float32')\n",
    "for i, t1 in enumerate(list(T)):\n",
    "    for j, t2 in enumerate(list(T)): \n",
    "        tags_matrix[i, j] = t2_given_t1(t2, t1)[0]/t2_given_t1(t2, t1)[1]"
   ]
  },
  {
   "cell_type": "code",
   "execution_count": 34,
   "metadata": {},
   "outputs": [
    {
     "data": {
      "text/plain": [
       "array([[5.66811394e-03, 2.41196336e-04, 3.37674865e-03, 9.28605907e-03,\n",
       "        3.94355990e-02, 6.40738070e-01, 4.82392672e-04, 2.02846110e-01,\n",
       "        1.74867343e-02, 4.57067043e-02, 2.19488665e-02, 1.27834054e-02],\n",
       "       [1.03913188e-01, 1.64419599e-03, 1.64419599e-02, 2.00591907e-02,\n",
       "        4.01512653e-01, 2.45642886e-01, 1.97303528e-03, 8.61558691e-02,\n",
       "        4.20914181e-02, 1.31535679e-02, 5.72180189e-02, 1.01940148e-02],\n",
       "       [8.45178682e-03, 1.26776798e-02, 8.06761440e-03, 2.15136390e-02,\n",
       "        4.87130225e-01, 2.11678833e-01, 4.99423733e-03, 7.18401819e-02,\n",
       "        4.03380729e-02, 9.33538228e-02, 7.29927002e-03, 3.26546282e-02],\n",
       "       [3.25037539e-01, 1.50182366e-03, 6.97275251e-02, 1.69491526e-02,\n",
       "        8.26003030e-03, 3.21390271e-01, 7.50911830e-04, 1.05771296e-01,\n",
       "        4.00128737e-02, 3.48637626e-02, 6.25402257e-02, 1.31945936e-02],\n",
       "       [1.34387657e-01, 3.15518863e-02, 3.61483321e-02, 9.16173235e-02,\n",
       "        1.68744162e-01, 1.10704266e-01, 5.60922408e-03, 6.52072281e-02,\n",
       "        3.45902145e-02, 2.16188848e-01, 2.28264257e-02, 8.24244320e-02],\n",
       "       [1.34591470e-02, 4.36690822e-02, 4.71801637e-03, 1.76285565e-01,\n",
       "        1.46587670e-01, 2.64720947e-01, 4.27181609e-02, 1.21790655e-02,\n",
       "        2.40179941e-01, 2.90029999e-02, 9.58232768e-03, 1.68970823e-02],\n",
       "       [1.19257540e-01, 5.10440813e-03, 6.03248253e-02, 5.38283065e-02,\n",
       "        1.53596282e-01, 3.47563803e-01, 4.64037119e-04, 1.18793502e-01,\n",
       "        3.57308574e-02, 8.35266802e-03, 4.17633429e-02, 5.52204177e-02],\n",
       "       [4.63499408e-03, 1.02632018e-02, 6.62142003e-04, 7.81327561e-02,\n",
       "        1.22496272e-02, 6.97566628e-01, 1.68846212e-02, 6.63797408e-02,\n",
       "        6.57175928e-02, 2.18506865e-02, 2.10230090e-02, 4.63499408e-03],\n",
       "       [1.74245834e-01, 2.43133726e-03, 6.55560568e-02, 9.12201703e-02,\n",
       "        8.79783854e-02, 2.22332284e-01, 5.85321933e-02, 4.43043672e-02,\n",
       "        9.38316062e-02, 2.69248094e-02, 8.05042759e-02, 5.20486273e-02],\n",
       "       [5.55644520e-02, 1.84787825e-01, 5.58847077e-02, 1.44115299e-01,\n",
       "        2.04803839e-01, 6.05284236e-02, 1.04083270e-02, 1.64931938e-02,\n",
       "        1.64931953e-01, 7.39791840e-02, 2.56204954e-03, 2.59407535e-02],\n",
       "       [2.98151467e-03, 2.71317828e-02, 1.78890873e-03, 3.60763259e-02,\n",
       "        1.81872398e-02, 3.48837197e-01, 1.37149673e-02, 3.33929621e-02,\n",
       "        1.17769830e-01, 2.12283835e-01, 1.84853911e-01, 2.98151467e-03],\n",
       "       [6.88851923e-02, 1.43094845e-02, 1.46422628e-02, 1.16805322e-01,\n",
       "        3.48419309e-01, 3.19467559e-02, 6.98835263e-03, 1.29783690e-01,\n",
       "        1.33777037e-01, 2.22961735e-02, 3.12811993e-02, 8.08652267e-02]],\n",
       "      dtype=float32)"
      ]
     },
     "execution_count": 34,
     "metadata": {},
     "output_type": "execute_result"
    }
   ],
   "source": [
    "tags_matrix"
   ]
  },
  {
   "cell_type": "code",
   "execution_count": 35,
   "metadata": {},
   "outputs": [
    {
     "data": {
      "text/html": [
       "<div>\n",
       "<style scoped>\n",
       "    .dataframe tbody tr th:only-of-type {\n",
       "        vertical-align: middle;\n",
       "    }\n",
       "\n",
       "    .dataframe tbody tr th {\n",
       "        vertical-align: top;\n",
       "    }\n",
       "\n",
       "    .dataframe thead th {\n",
       "        text-align: right;\n",
       "    }\n",
       "</style>\n",
       "<table border=\"1\" class=\"dataframe\">\n",
       "  <thead>\n",
       "    <tr style=\"text-align: right;\">\n",
       "      <th></th>\n",
       "      <th>DET</th>\n",
       "      <th>PRT</th>\n",
       "      <th>PRON</th>\n",
       "      <th>ADP</th>\n",
       "      <th>VERB</th>\n",
       "      <th>NOUN</th>\n",
       "      <th>CONJ</th>\n",
       "      <th>ADJ</th>\n",
       "      <th>.</th>\n",
       "      <th>X</th>\n",
       "      <th>NUM</th>\n",
       "      <th>ADV</th>\n",
       "    </tr>\n",
       "  </thead>\n",
       "  <tbody>\n",
       "    <tr>\n",
       "      <th>DET</th>\n",
       "      <td>0.005668</td>\n",
       "      <td>0.000241</td>\n",
       "      <td>0.003377</td>\n",
       "      <td>0.009286</td>\n",
       "      <td>0.039436</td>\n",
       "      <td>0.640738</td>\n",
       "      <td>0.000482</td>\n",
       "      <td>0.202846</td>\n",
       "      <td>0.017487</td>\n",
       "      <td>0.045707</td>\n",
       "      <td>0.021949</td>\n",
       "      <td>0.012783</td>\n",
       "    </tr>\n",
       "    <tr>\n",
       "      <th>PRT</th>\n",
       "      <td>0.103913</td>\n",
       "      <td>0.001644</td>\n",
       "      <td>0.016442</td>\n",
       "      <td>0.020059</td>\n",
       "      <td>0.401513</td>\n",
       "      <td>0.245643</td>\n",
       "      <td>0.001973</td>\n",
       "      <td>0.086156</td>\n",
       "      <td>0.042091</td>\n",
       "      <td>0.013154</td>\n",
       "      <td>0.057218</td>\n",
       "      <td>0.010194</td>\n",
       "    </tr>\n",
       "    <tr>\n",
       "      <th>PRON</th>\n",
       "      <td>0.008452</td>\n",
       "      <td>0.012678</td>\n",
       "      <td>0.008068</td>\n",
       "      <td>0.021514</td>\n",
       "      <td>0.487130</td>\n",
       "      <td>0.211679</td>\n",
       "      <td>0.004994</td>\n",
       "      <td>0.071840</td>\n",
       "      <td>0.040338</td>\n",
       "      <td>0.093354</td>\n",
       "      <td>0.007299</td>\n",
       "      <td>0.032655</td>\n",
       "    </tr>\n",
       "    <tr>\n",
       "      <th>ADP</th>\n",
       "      <td>0.325038</td>\n",
       "      <td>0.001502</td>\n",
       "      <td>0.069728</td>\n",
       "      <td>0.016949</td>\n",
       "      <td>0.008260</td>\n",
       "      <td>0.321390</td>\n",
       "      <td>0.000751</td>\n",
       "      <td>0.105771</td>\n",
       "      <td>0.040013</td>\n",
       "      <td>0.034864</td>\n",
       "      <td>0.062540</td>\n",
       "      <td>0.013195</td>\n",
       "    </tr>\n",
       "    <tr>\n",
       "      <th>VERB</th>\n",
       "      <td>0.134388</td>\n",
       "      <td>0.031552</td>\n",
       "      <td>0.036148</td>\n",
       "      <td>0.091617</td>\n",
       "      <td>0.168744</td>\n",
       "      <td>0.110704</td>\n",
       "      <td>0.005609</td>\n",
       "      <td>0.065207</td>\n",
       "      <td>0.034590</td>\n",
       "      <td>0.216189</td>\n",
       "      <td>0.022826</td>\n",
       "      <td>0.082424</td>\n",
       "    </tr>\n",
       "    <tr>\n",
       "      <th>NOUN</th>\n",
       "      <td>0.013459</td>\n",
       "      <td>0.043669</td>\n",
       "      <td>0.004718</td>\n",
       "      <td>0.176286</td>\n",
       "      <td>0.146588</td>\n",
       "      <td>0.264721</td>\n",
       "      <td>0.042718</td>\n",
       "      <td>0.012179</td>\n",
       "      <td>0.240180</td>\n",
       "      <td>0.029003</td>\n",
       "      <td>0.009582</td>\n",
       "      <td>0.016897</td>\n",
       "    </tr>\n",
       "    <tr>\n",
       "      <th>CONJ</th>\n",
       "      <td>0.119258</td>\n",
       "      <td>0.005104</td>\n",
       "      <td>0.060325</td>\n",
       "      <td>0.053828</td>\n",
       "      <td>0.153596</td>\n",
       "      <td>0.347564</td>\n",
       "      <td>0.000464</td>\n",
       "      <td>0.118794</td>\n",
       "      <td>0.035731</td>\n",
       "      <td>0.008353</td>\n",
       "      <td>0.041763</td>\n",
       "      <td>0.055220</td>\n",
       "    </tr>\n",
       "    <tr>\n",
       "      <th>ADJ</th>\n",
       "      <td>0.004635</td>\n",
       "      <td>0.010263</td>\n",
       "      <td>0.000662</td>\n",
       "      <td>0.078133</td>\n",
       "      <td>0.012250</td>\n",
       "      <td>0.697567</td>\n",
       "      <td>0.016885</td>\n",
       "      <td>0.066380</td>\n",
       "      <td>0.065718</td>\n",
       "      <td>0.021851</td>\n",
       "      <td>0.021023</td>\n",
       "      <td>0.004635</td>\n",
       "    </tr>\n",
       "    <tr>\n",
       "      <th>.</th>\n",
       "      <td>0.174246</td>\n",
       "      <td>0.002431</td>\n",
       "      <td>0.065556</td>\n",
       "      <td>0.091220</td>\n",
       "      <td>0.087978</td>\n",
       "      <td>0.222332</td>\n",
       "      <td>0.058532</td>\n",
       "      <td>0.044304</td>\n",
       "      <td>0.093832</td>\n",
       "      <td>0.026925</td>\n",
       "      <td>0.080504</td>\n",
       "      <td>0.052049</td>\n",
       "    </tr>\n",
       "    <tr>\n",
       "      <th>X</th>\n",
       "      <td>0.055564</td>\n",
       "      <td>0.184788</td>\n",
       "      <td>0.055885</td>\n",
       "      <td>0.144115</td>\n",
       "      <td>0.204804</td>\n",
       "      <td>0.060528</td>\n",
       "      <td>0.010408</td>\n",
       "      <td>0.016493</td>\n",
       "      <td>0.164932</td>\n",
       "      <td>0.073979</td>\n",
       "      <td>0.002562</td>\n",
       "      <td>0.025941</td>\n",
       "    </tr>\n",
       "    <tr>\n",
       "      <th>NUM</th>\n",
       "      <td>0.002982</td>\n",
       "      <td>0.027132</td>\n",
       "      <td>0.001789</td>\n",
       "      <td>0.036076</td>\n",
       "      <td>0.018187</td>\n",
       "      <td>0.348837</td>\n",
       "      <td>0.013715</td>\n",
       "      <td>0.033393</td>\n",
       "      <td>0.117770</td>\n",
       "      <td>0.212284</td>\n",
       "      <td>0.184854</td>\n",
       "      <td>0.002982</td>\n",
       "    </tr>\n",
       "    <tr>\n",
       "      <th>ADV</th>\n",
       "      <td>0.068885</td>\n",
       "      <td>0.014309</td>\n",
       "      <td>0.014642</td>\n",
       "      <td>0.116805</td>\n",
       "      <td>0.348419</td>\n",
       "      <td>0.031947</td>\n",
       "      <td>0.006988</td>\n",
       "      <td>0.129784</td>\n",
       "      <td>0.133777</td>\n",
       "      <td>0.022296</td>\n",
       "      <td>0.031281</td>\n",
       "      <td>0.080865</td>\n",
       "    </tr>\n",
       "  </tbody>\n",
       "</table>\n",
       "</div>"
      ],
      "text/plain": [
       "           DET       PRT      PRON       ADP      VERB      NOUN      CONJ  \\\n",
       "DET   0.005668  0.000241  0.003377  0.009286  0.039436  0.640738  0.000482   \n",
       "PRT   0.103913  0.001644  0.016442  0.020059  0.401513  0.245643  0.001973   \n",
       "PRON  0.008452  0.012678  0.008068  0.021514  0.487130  0.211679  0.004994   \n",
       "ADP   0.325038  0.001502  0.069728  0.016949  0.008260  0.321390  0.000751   \n",
       "VERB  0.134388  0.031552  0.036148  0.091617  0.168744  0.110704  0.005609   \n",
       "NOUN  0.013459  0.043669  0.004718  0.176286  0.146588  0.264721  0.042718   \n",
       "CONJ  0.119258  0.005104  0.060325  0.053828  0.153596  0.347564  0.000464   \n",
       "ADJ   0.004635  0.010263  0.000662  0.078133  0.012250  0.697567  0.016885   \n",
       ".     0.174246  0.002431  0.065556  0.091220  0.087978  0.222332  0.058532   \n",
       "X     0.055564  0.184788  0.055885  0.144115  0.204804  0.060528  0.010408   \n",
       "NUM   0.002982  0.027132  0.001789  0.036076  0.018187  0.348837  0.013715   \n",
       "ADV   0.068885  0.014309  0.014642  0.116805  0.348419  0.031947  0.006988   \n",
       "\n",
       "           ADJ         .         X       NUM       ADV  \n",
       "DET   0.202846  0.017487  0.045707  0.021949  0.012783  \n",
       "PRT   0.086156  0.042091  0.013154  0.057218  0.010194  \n",
       "PRON  0.071840  0.040338  0.093354  0.007299  0.032655  \n",
       "ADP   0.105771  0.040013  0.034864  0.062540  0.013195  \n",
       "VERB  0.065207  0.034590  0.216189  0.022826  0.082424  \n",
       "NOUN  0.012179  0.240180  0.029003  0.009582  0.016897  \n",
       "CONJ  0.118794  0.035731  0.008353  0.041763  0.055220  \n",
       "ADJ   0.066380  0.065718  0.021851  0.021023  0.004635  \n",
       ".     0.044304  0.093832  0.026925  0.080504  0.052049  \n",
       "X     0.016493  0.164932  0.073979  0.002562  0.025941  \n",
       "NUM   0.033393  0.117770  0.212284  0.184854  0.002982  \n",
       "ADV   0.129784  0.133777  0.022296  0.031281  0.080865  "
      ]
     },
     "execution_count": 35,
     "metadata": {},
     "output_type": "execute_result"
    }
   ],
   "source": [
    "# convert the matrix to a df for better readability\n",
    "tags_df = pd.DataFrame(tags_matrix, columns = list(T), index=list(T))\n",
    "tags_df"
   ]
  },
  {
   "cell_type": "code",
   "execution_count": 36,
   "metadata": {},
   "outputs": [
    {
     "data": {
      "text/plain": [
       "DET     0.174246\n",
       "PRT     0.002431\n",
       "PRON    0.065556\n",
       "ADP     0.091220\n",
       "VERB    0.087978\n",
       "NOUN    0.222332\n",
       "CONJ    0.058532\n",
       "ADJ     0.044304\n",
       ".       0.093832\n",
       "X       0.026925\n",
       "NUM     0.080504\n",
       "ADV     0.052049\n",
       "Name: ., dtype: float32"
      ]
     },
     "execution_count": 36,
     "metadata": {},
     "output_type": "execute_result"
    }
   ],
   "source": [
    "tags_df.loc['.', :]"
   ]
  },
  {
   "cell_type": "code",
   "execution_count": 37,
   "metadata": {},
   "outputs": [
    {
     "data": {
      "image/png": "[encoded data removed]",
      "text/plain": [
       "<Figure size 1296x864 with 2 Axes>"
      ]
     },
     "metadata": {
      "needs_background": "light"
     },
     "output_type": "display_data"
    }
   ],
   "source": [
    "# heatmap of tags matrix\n",
    "# T(i, j) means P(tag j given tag i)\n",
    "plt.figure(figsize=(18, 12))\n",
    "sns.heatmap(tags_df)\n",
    "plt.show()"
   ]
  },
  {
   "cell_type": "code",
   "execution_count": 38,
   "metadata": {},
   "outputs": [
    {
     "data": {
      "image/png": "[encoded data removed]",
      "text/plain": [
       "<Figure size 1296x864 with 2 Axes>"
      ]
     },
     "metadata": {
      "needs_background": "light"
     },
     "output_type": "display_data"
    }
   ],
   "source": [
    "# frequent tags\n",
    "# filter the df to get P(t2, t1) > 0.5\n",
    "tags_frequent = tags_df[tags_df>0.5]\n",
    "plt.figure(figsize=(18, 12))\n",
    "sns.heatmap(tags_frequent)\n",
    "plt.show()"
   ]
  },
  {
   "cell_type": "markdown",
   "metadata": {},
   "source": [
    "### Build the vanilla Viterbi based POS tagger"
   ]
  },
  {
   "cell_type": "code",
   "execution_count": 39,
   "metadata": {},
   "outputs": [],
   "source": [
    "# Viterbi Heuristic\n",
    "def Viterbi(words, train_bag = train_tagged_words):\n",
    "    state = []\n",
    "    T = list(set([pair[1] for pair in train_bag]))\n",
    "    \n",
    "    for key, word in enumerate(words):\n",
    "        #initialise list of probability column for a given observation\n",
    "        p = [] \n",
    "        for tag in T:\n",
    "            if key == 0:\n",
    "                transition_p = tags_df.loc['.', tag]\n",
    "            else:\n",
    "                transition_p = tags_df.loc[state[-1], tag]\n",
    "                \n",
    "            # compute emission and state probabilities\n",
    "            emission_p = word_given_tag(words[key], tag)[0]/word_given_tag(words[key], tag)[1]\n",
    "            state_probability = emission_p * transition_p    \n",
    "            p.append(state_probability)\n",
    "            \n",
    "        pmax = max(p)\n",
    "        # getting state for which probability is maximum\n",
    "        state_max = T[p.index(pmax)] \n",
    "        state.append(state_max)\n",
    "    return list(zip(words, state))\n",
    "\n"
   ]
  },
  {
   "cell_type": "code",
   "execution_count": 40,
   "metadata": {},
   "outputs": [
    {
     "data": {
      "text/plain": [
       "[[('*-1', 'X'),\n",
       "  ('To', 'PRT'),\n",
       "  ('profit', 'VERB'),\n",
       "  ('from', 'ADP'),\n",
       "  ('an', 'DET'),\n",
       "  ('index-arbitrage', 'ADJ'),\n",
       "  ('opportunity', 'NOUN'),\n",
       "  (',', '.'),\n",
       "  ('someone', 'NOUN'),\n",
       "  ('who', 'PRON'),\n",
       "  ('*T*-75', 'X'),\n",
       "  ('owns', 'VERB'),\n",
       "  ('the', 'DET'),\n",
       "  ('S&P', 'NOUN'),\n",
       "  ('500', 'NUM'),\n",
       "  ('widget', 'NOUN'),\n",
       "  ('in', 'ADP'),\n",
       "  ('New', 'NOUN'),\n",
       "  ('York', 'NOUN'),\n",
       "  ('must', 'VERB'),\n",
       "  ('sell', 'VERB'),\n",
       "  ('it', 'PRON'),\n",
       "  ('and', 'CONJ'),\n",
       "  ('replace', 'VERB'),\n",
       "  ('it', 'PRON'),\n",
       "  ('with', 'ADP'),\n",
       "  ('a', 'DET'),\n",
       "  ('cheaper', 'ADJ'),\n",
       "  ('S&P', 'NOUN'),\n",
       "  ('500', 'NUM'),\n",
       "  ('widget', 'NOUN'),\n",
       "  ('in', 'ADP'),\n",
       "  ('Chicago', 'NOUN'),\n",
       "  ('.', '.')],\n",
       " [('The', 'DET'),\n",
       "  ('32', 'NUM'),\n",
       "  ('%', 'NOUN'),\n",
       "  ('state-owned', 'ADJ'),\n",
       "  ('DSM', 'NOUN'),\n",
       "  ('had', 'VERB'),\n",
       "  ('eight', 'NUM'),\n",
       "  ('million', 'NUM'),\n",
       "  ('guilders', 'NOUN'),\n",
       "  ('of', 'ADP'),\n",
       "  ('extraordinary', 'ADJ'),\n",
       "  ('charges', 'NOUN'),\n",
       "  ('in', 'ADP'),\n",
       "  ('the', 'DET'),\n",
       "  ('latest', 'ADJ'),\n",
       "  ('quarter', 'NOUN'),\n",
       "  (',', '.'),\n",
       "  ('mainly', 'ADV'),\n",
       "  ('*', 'X'),\n",
       "  ('to', 'PRT'),\n",
       "  ('reflect', 'VERB'),\n",
       "  ('one-time', 'ADJ'),\n",
       "  ('losses', 'NOUN'),\n",
       "  ('in', 'ADP'),\n",
       "  ('connection', 'NOUN'),\n",
       "  ('with', 'ADP'),\n",
       "  ('the', 'DET'),\n",
       "  ('disposal', 'NOUN'),\n",
       "  ('of', 'ADP'),\n",
       "  ('some', 'DET'),\n",
       "  ('operations', 'NOUN'),\n",
       "  ('.', '.')],\n",
       " [('In', 'ADP'),\n",
       "  ('Seoul', 'NOUN'),\n",
       "  (',', '.'),\n",
       "  ('officials', 'NOUN'),\n",
       "  ('began', 'VERB'),\n",
       "  ('*-1', 'X'),\n",
       "  ('visiting', 'VERB'),\n",
       "  ('about', 'ADV'),\n",
       "  ('26,000', 'NUM'),\n",
       "  ('cigarette', 'NOUN'),\n",
       "  ('stalls', 'NOUN'),\n",
       "  ('*-1', 'X'),\n",
       "  ('to', 'PRT'),\n",
       "  ('remove', 'VERB'),\n",
       "  ('illegal', 'ADJ'),\n",
       "  ('posters', 'NOUN'),\n",
       "  ('and', 'CONJ'),\n",
       "  ('signboards', 'NOUN'),\n",
       "  ('advertising', 'VERB'),\n",
       "  ('imported', 'VERB'),\n",
       "  ('cigarettes', 'NOUN'),\n",
       "  ('.', '.')],\n",
       " [('There', 'DET'),\n",
       "  ('is', 'VERB'),\n",
       "  ('$', '.'),\n",
       "  ('81.8', 'NUM'),\n",
       "  ('million', 'NUM'),\n",
       "  ('*U*', 'X'),\n",
       "  ('of', 'ADP'),\n",
       "  ('7.20', 'NUM'),\n",
       "  ('%', 'NOUN'),\n",
       "  ('term', 'NOUN'),\n",
       "  ('bonds', 'NOUN'),\n",
       "  ('due', 'ADJ'),\n",
       "  ('2009', 'NUM'),\n",
       "  ('priced', 'VERB'),\n",
       "  ('*', 'X'),\n",
       "  ('at', 'ADP'),\n",
       "  ('99', 'NUM'),\n",
       "  ('1\\\\/4', 'NUM'),\n",
       "  ('*', 'X'),\n",
       "  ('to', 'PRT'),\n",
       "  ('yield', 'VERB'),\n",
       "  ('7.272', 'NUM'),\n",
       "  ('%', 'NOUN'),\n",
       "  ('.', '.')],\n",
       " [('Not', 'ADV'),\n",
       "  ('included', 'VERB'),\n",
       "  ('on', 'ADP'),\n",
       "  ('the', 'DET'),\n",
       "  ('most-likely-successor', 'ADJ'),\n",
       "  ('list', 'NOUN'),\n",
       "  ('are', 'VERB'),\n",
       "  ('Joni', 'NOUN'),\n",
       "  ('Evans', 'NOUN'),\n",
       "  (',', '.'),\n",
       "  ('recruited', 'VERB'),\n",
       "  ('*', 'X'),\n",
       "  ('two', 'NUM'),\n",
       "  ('years', 'NOUN'),\n",
       "  ('ago', 'ADP'),\n",
       "  ('*', 'X'),\n",
       "  ('to', 'PRT'),\n",
       "  ('be', 'VERB'),\n",
       "  ('publisher', 'NOUN'),\n",
       "  ('of', 'ADP'),\n",
       "  ('adult', 'NOUN'),\n",
       "  ('trade', 'NOUN'),\n",
       "  ('books', 'NOUN'),\n",
       "  ('for', 'ADP'),\n",
       "  ('Random', 'NOUN'),\n",
       "  ('House', 'NOUN'),\n",
       "  (',', '.'),\n",
       "  ('and', 'CONJ'),\n",
       "  ('Sonny', 'NOUN'),\n",
       "  ('Mehta', 'NOUN'),\n",
       "  (',', '.'),\n",
       "  ('president', 'NOUN'),\n",
       "  ('of', 'ADP'),\n",
       "  ('the', 'DET'),\n",
       "  ('prestigious', 'ADJ'),\n",
       "  ('Alfred', 'NOUN'),\n",
       "  ('A.', 'NOUN'),\n",
       "  ('Knopf', 'NOUN'),\n",
       "  ('unit', 'NOUN'),\n",
       "  ('.', '.')]]"
      ]
     },
     "execution_count": 40,
     "metadata": {},
     "output_type": "execute_result"
    }
   ],
   "source": [
    "# Running on entire test dataset would take more than 3-4hrs. \n",
    "# Let's test our Viterbi algorithm on a few sample sentences of test dataset\n",
    "\n",
    "random.seed(1234)\n",
    "\n",
    "# choose random 5 sents\n",
    "rndom = [random.randint(1,len(test_set)) for x in range(5)]\n",
    "\n",
    "# list of sents\n",
    "test_run = [test_set[i] for i in rndom]\n",
    "\n",
    "# list of tagged words\n",
    "test_run_base = [tup for sent in test_run for tup in sent]\n",
    "\n",
    "# list of untagged words\n",
    "test_tagged_words = [tup[0] for sent in test_run for tup in sent]\n",
    "test_run"
   ]
  },
  {
   "cell_type": "code",
   "execution_count": 41,
   "metadata": {},
   "outputs": [],
   "source": [
    "# tagging the test sentences\n",
    "start = time.time()\n",
    "tagged_seq_viterbi_vanilla = Viterbi(test_tagged_words)\n",
    "end = time.time()\n",
    "difference = end-start"
   ]
  },
  {
   "cell_type": "code",
   "execution_count": 42,
   "metadata": {},
   "outputs": [
    {
     "name": "stdout",
     "output_type": "stream",
     "text": [
      "Time taken in seconds:  34.86701321601868\n",
      "[('*-1', 'X'), ('To', 'PRT'), ('profit', 'NOUN'), ('from', 'ADP'), ('an', 'DET'), ('index-arbitrage', 'ADJ'), ('opportunity', 'NOUN'), (',', '.'), ('someone', 'NOUN'), ('who', 'PRON'), ('*T*-75', 'X'), ('owns', 'VERB'), ('the', 'DET'), ('S&P', 'NOUN'), ('500', 'NUM'), ('widget', 'NOUN'), ('in', 'ADP'), ('New', 'NOUN'), ('York', 'NOUN'), ('must', 'VERB'), ('sell', 'VERB'), ('it', 'PRON'), ('and', 'CONJ'), ('replace', 'VERB'), ('it', 'PRON'), ('with', 'ADP'), ('a', 'DET'), ('cheaper', 'ADJ'), ('S&P', 'NOUN'), ('500', 'NUM'), ('widget', 'NOUN'), ('in', 'ADP'), ('Chicago', 'NOUN'), ('.', '.'), ('The', 'DET'), ('32', 'NUM'), ('%', 'NOUN'), ('state-owned', 'ADJ'), ('DSM', 'NOUN'), ('had', 'VERB'), ('eight', 'NUM'), ('million', 'NUM'), ('guilders', 'NOUN'), ('of', 'ADP'), ('extraordinary', 'ADJ'), ('charges', 'NOUN'), ('in', 'ADP'), ('the', 'DET'), ('latest', 'ADJ'), ('quarter', 'NOUN'), (',', '.'), ('mainly', 'ADV'), ('*', 'X'), ('to', 'PRT'), ('reflect', 'VERB'), ('one-time', 'ADJ'), ('losses', 'NOUN'), ('in', 'ADP'), ('connection', 'NOUN'), ('with', 'ADP'), ('the', 'DET'), ('disposal', 'NOUN'), ('of', 'ADP'), ('some', 'DET'), ('operations', 'NOUN'), ('.', '.'), ('In', 'ADP'), ('Seoul', 'NOUN'), (',', '.'), ('officials', 'NOUN'), ('began', 'VERB'), ('*-1', 'X'), ('visiting', 'VERB'), ('about', 'ADP'), ('26,000', 'DET'), ('cigarette', 'NOUN'), ('stalls', 'DET'), ('*-1', 'X'), ('to', 'PRT'), ('remove', 'VERB'), ('illegal', 'ADJ'), ('posters', 'DET'), ('and', 'CONJ'), ('signboards', 'DET'), ('advertising', 'NOUN'), ('imported', 'VERB'), ('cigarettes', 'NOUN'), ('.', '.'), ('There', 'DET'), ('is', 'VERB'), ('$', '.'), ('81.8', 'DET'), ('million', 'NUM'), ('*U*', 'X'), ('of', 'ADP'), ('7.20', 'DET'), ('%', 'NOUN'), ('term', 'NOUN'), ('bonds', 'NOUN'), ('due', 'ADJ'), ('2009', 'NUM'), ('priced', 'VERB'), ('*', 'X'), ('at', 'ADP'), ('99', 'NUM'), ('1\\\\/4', 'NUM'), ('*', 'X'), ('to', 'PRT'), ('yield', 'VERB'), ('7.272', 'NUM'), ('%', 'NOUN'), ('.', '.'), ('Not', 'ADV'), ('included', 'VERB'), ('on', 'ADP'), ('the', 'DET'), ('most-likely-successor', 'DET'), ('list', 'NOUN'), ('are', 'VERB'), ('Joni', 'DET'), ('Evans', 'NOUN'), (',', '.'), ('recruited', 'DET'), ('*', 'X'), ('two', 'NUM'), ('years', 'NOUN'), ('ago', 'ADP'), ('*', 'X'), ('to', 'PRT'), ('be', 'VERB'), ('publisher', 'NOUN'), ('of', 'ADP'), ('adult', 'NOUN'), ('trade', 'NOUN'), ('books', 'NOUN'), ('for', 'ADP'), ('Random', 'NOUN'), ('House', 'NOUN'), (',', '.'), ('and', 'CONJ'), ('Sonny', 'DET'), ('Mehta', 'NOUN'), (',', '.'), ('president', 'NOUN'), ('of', 'ADP'), ('the', 'DET'), ('prestigious', 'ADJ'), ('Alfred', 'NOUN'), ('A.', 'NOUN'), ('Knopf', 'NOUN'), ('unit', 'NOUN'), ('.', '.')]\n"
     ]
    }
   ],
   "source": [
    "print(\"Time taken in seconds: \", difference)\n",
    "print(tagged_seq_viterbi_vanilla)\n",
    "#print(test_run_base)"
   ]
  },
  {
   "cell_type": "markdown",
   "metadata": {},
   "source": [
    "eg: 26,000->'DET' it should be number (Calculated incorrectly)"
   ]
  },
  {
   "cell_type": "code",
   "execution_count": 43,
   "metadata": {},
   "outputs": [
    {
     "data": {
      "text/plain": [
       "0.9144736842105263"
      ]
     },
     "execution_count": 43,
     "metadata": {},
     "output_type": "execute_result"
    }
   ],
   "source": [
    "# accuracy of vanilla viterbi\n",
    "check = [i for i, j in zip(tagged_seq_viterbi_vanilla, test_run_base) if i == j] \n",
    "\n",
    "accuracy_vanilla_viterbi = len(check)/len(tagged_seq_viterbi_vanilla)\n",
    "\n",
    "accuracy_vanilla_viterbi"
   ]
  },
  {
   "cell_type": "markdown",
   "metadata": {},
   "source": [
    "### Using Vanilla Viterbi we are able to get 91.4% accuracy"
   ]
  },
  {
   "cell_type": "markdown",
   "metadata": {},
   "source": [
    "### Solve the problem of unknown words"
   ]
  },
  {
   "cell_type": "code",
   "execution_count": 44,
   "metadata": {},
   "outputs": [],
   "source": [
    "# Using Unigram tagger and rule based taging "
   ]
  },
  {
   "cell_type": "code",
   "execution_count": 45,
   "metadata": {},
   "outputs": [
    {
     "data": {
      "text/plain": [
       "0.9060918462980319"
      ]
     },
     "execution_count": 45,
     "metadata": {},
     "output_type": "execute_result"
    }
   ],
   "source": [
    "unigram_tagger = nltk.UnigramTagger(train_set)\n",
    "unigram_tagger.evaluate(test_set)"
   ]
  },
  {
   "cell_type": "code",
   "execution_count": 70,
   "metadata": {},
   "outputs": [],
   "source": [
    "# Build a Viterbi algorithm where unknown wrds are taken care by rule based patterns"
   ]
  },
  {
   "cell_type": "code",
   "execution_count": 46,
   "metadata": {},
   "outputs": [],
   "source": [
    "patterns = [\n",
    "    (r'.*ing$', 'VERB'),              # gerund\n",
    "    (r'.*ed$', 'VERB'),               # past tense \n",
    "    (r'.*es$', 'VERB'),               # verb    \n",
    "    (r'.*\\'s$', 'NOUN'),              # possessive nouns\n",
    "    (r'.*s$', 'NOUN'),                # plural nouns\n",
    "    (r'^-?[0-9]+(.[0-9]+)?$', 'NUM'), # cardinal numbers\n",
    "    (r'.*', 'NOUN')]                     # Unknow words\n"
   ]
  },
  {
   "cell_type": "code",
   "execution_count": 47,
   "metadata": {},
   "outputs": [],
   "source": [
    "regexp_tagger = nltk.RegexpTagger(patterns)"
   ]
  },
  {
   "cell_type": "code",
   "execution_count": 48,
   "metadata": {},
   "outputs": [
    {
     "data": {
      "text/plain": [
       "0.3343955014058107"
      ]
     },
     "execution_count": 48,
     "metadata": {},
     "output_type": "execute_result"
    }
   ],
   "source": [
    "regexp_tagger.evaluate(test_set)"
   ]
  },
  {
   "cell_type": "code",
   "execution_count": 49,
   "metadata": {},
   "outputs": [
    {
     "data": {
      "text/plain": [
       "0.9469540768509841"
      ]
     },
     "execution_count": 49,
     "metadata": {},
     "output_type": "execute_result"
    }
   ],
   "source": [
    "# rule based tagger\n",
    "rule_based_tagger = nltk.RegexpTagger(patterns)\n",
    "\n",
    "\n",
    "# lexicon backed up by the rule-based tagger\n",
    "lexicon_tagger = nltk.UnigramTagger(train_set, backoff=rule_based_tagger)\n",
    "\n",
    "\n",
    "lexicon_tagger.evaluate(test_set)"
   ]
  },
  {
   "cell_type": "code",
   "execution_count": 50,
   "metadata": {},
   "outputs": [],
   "source": [
    "# Modified Viterbi Algorithm : Backoff to rule based tagger in case unknown word is encountered.\n",
    "def Viterbi_modified(words, train_bag = train_tagged_words):\n",
    "    state = []\n",
    "    T = list(set([pair[1] for pair in train_bag]))\n",
    "    \n",
    "    for key, word in enumerate(words):\n",
    "        #initialise list of probability column for a given observation\n",
    "        p = [] \n",
    "        for tag in T:\n",
    "            if key == 0:\n",
    "                transition_p = tags_df.loc['.', tag]\n",
    "            else:\n",
    "                transition_p = tags_df.loc[state[-1], tag]\n",
    "                \n",
    "            # compute emission and state probabilities\n",
    "            emission_p = word_given_tag(words[key], tag)[0]/word_given_tag(words[key], tag)[1]\n",
    "            state_probability = emission_p * transition_p    \n",
    "            p.append(state_probability)\n",
    "            \n",
    "        pmax = max(p)\n",
    "        state_max = rule_based_tagger.tag([word])[0][1]       \n",
    "       \n",
    "        \n",
    "        if(pmax==0):\n",
    "            state_max = rule_based_tagger.tag([word])[0][1] \n",
    "        else:\n",
    "            if state_max != 'X':\n",
    "                # getting state for which probability is maximum\n",
    "                state_max = T[p.index(pmax)]                \n",
    "            \n",
    "        \n",
    "        state.append(state_max)\n",
    "    return list(zip(words, state))"
   ]
  },
  {
   "cell_type": "code",
   "execution_count": 51,
   "metadata": {},
   "outputs": [],
   "source": [
    "# tagging the test sentences\n",
    "start = time.time()\n",
    "tagged_seq_viterbi_modified = Viterbi_modified(test_tagged_words)\n",
    "end = time.time()\n",
    "difference = end-start"
   ]
  },
  {
   "cell_type": "code",
   "execution_count": 52,
   "metadata": {},
   "outputs": [
    {
     "name": "stdout",
     "output_type": "stream",
     "text": [
      "Time taken in seconds:  45.80003094673157\n",
      "[('*-1', 'X'), ('To', 'PRT'), ('profit', 'NOUN'), ('from', 'ADP'), ('an', 'DET'), ('index-arbitrage', 'ADJ'), ('opportunity', 'NOUN'), (',', '.'), ('someone', 'NOUN'), ('who', 'PRON'), ('*T*-75', 'X'), ('owns', 'VERB'), ('the', 'DET'), ('S&P', 'NOUN'), ('500', 'NUM'), ('widget', 'NOUN'), ('in', 'ADP'), ('New', 'NOUN'), ('York', 'NOUN'), ('must', 'VERB'), ('sell', 'VERB'), ('it', 'PRON'), ('and', 'CONJ'), ('replace', 'VERB'), ('it', 'PRON'), ('with', 'ADP'), ('a', 'DET'), ('cheaper', 'ADJ'), ('S&P', 'NOUN'), ('500', 'NUM'), ('widget', 'NOUN'), ('in', 'ADP'), ('Chicago', 'NOUN'), ('.', '.'), ('The', 'DET'), ('32', 'NUM'), ('%', 'NOUN'), ('state-owned', 'ADJ'), ('DSM', 'NOUN'), ('had', 'VERB'), ('eight', 'NUM'), ('million', 'NUM'), ('guilders', 'NOUN'), ('of', 'ADP'), ('extraordinary', 'ADJ'), ('charges', 'NOUN'), ('in', 'ADP'), ('the', 'DET'), ('latest', 'ADJ'), ('quarter', 'NOUN'), (',', '.'), ('mainly', 'ADV'), ('*', 'X'), ('to', 'PRT'), ('reflect', 'VERB'), ('one-time', 'ADJ'), ('losses', 'NOUN'), ('in', 'ADP'), ('connection', 'NOUN'), ('with', 'ADP'), ('the', 'DET'), ('disposal', 'NOUN'), ('of', 'ADP'), ('some', 'DET'), ('operations', 'NOUN'), ('.', '.'), ('In', 'ADP'), ('Seoul', 'NOUN'), (',', '.'), ('officials', 'NOUN'), ('began', 'VERB'), ('*-1', 'X'), ('visiting', 'VERB'), ('about', 'ADP'), ('26,000', 'NUM'), ('cigarette', 'NOUN'), ('stalls', 'NOUN'), ('*-1', 'X'), ('to', 'PRT'), ('remove', 'VERB'), ('illegal', 'ADJ'), ('posters', 'NOUN'), ('and', 'CONJ'), ('signboards', 'NOUN'), ('advertising', 'NOUN'), ('imported', 'VERB'), ('cigarettes', 'NOUN'), ('.', '.'), ('There', 'DET'), ('is', 'VERB'), ('$', '.'), ('81.8', 'NUM'), ('million', 'NUM'), ('*U*', 'X'), ('of', 'ADP'), ('7.20', 'NUM'), ('%', 'NOUN'), ('term', 'NOUN'), ('bonds', 'NOUN'), ('due', 'ADJ'), ('2009', 'NUM'), ('priced', 'VERB'), ('*', 'X'), ('at', 'ADP'), ('99', 'NUM'), ('1\\\\/4', 'NUM'), ('*', 'X'), ('to', 'PRT'), ('yield', 'VERB'), ('7.272', 'NUM'), ('%', 'NOUN'), ('.', '.'), ('Not', 'ADV'), ('included', 'VERB'), ('on', 'ADP'), ('the', 'DET'), ('most-likely-successor', 'NOUN'), ('list', 'NOUN'), ('are', 'VERB'), ('Joni', 'NOUN'), ('Evans', 'NOUN'), (',', '.'), ('recruited', 'VERB'), ('*', 'X'), ('two', 'NUM'), ('years', 'NOUN'), ('ago', 'ADP'), ('*', 'X'), ('to', 'PRT'), ('be', 'VERB'), ('publisher', 'NOUN'), ('of', 'ADP'), ('adult', 'NOUN'), ('trade', 'NOUN'), ('books', 'NOUN'), ('for', 'ADP'), ('Random', 'NOUN'), ('House', 'NOUN'), (',', '.'), ('and', 'CONJ'), ('Sonny', 'NOUN'), ('Mehta', 'NOUN'), (',', '.'), ('president', 'NOUN'), ('of', 'ADP'), ('the', 'DET'), ('prestigious', 'ADJ'), ('Alfred', 'NOUN'), ('A.', 'NOUN'), ('Knopf', 'NOUN'), ('unit', 'NOUN'), ('.', '.')]\n"
     ]
    }
   ],
   "source": [
    "print(\"Time taken in seconds: \", difference)\n",
    "print(tagged_seq_viterbi_modified)\n",
    "#print(test_run_base)"
   ]
  },
  {
   "cell_type": "markdown",
   "metadata": {},
   "source": [
    "26,000-> NUM (Calculated correctly)"
   ]
  },
  {
   "cell_type": "code",
   "execution_count": 53,
   "metadata": {},
   "outputs": [
    {
     "data": {
      "text/plain": [
       "0.9736842105263158"
      ]
     },
     "execution_count": 53,
     "metadata": {},
     "output_type": "execute_result"
    }
   ],
   "source": [
    "# accuracy of modified viterbi\n",
    "check = [i for i, j in zip(tagged_seq_viterbi_modified, test_run_base) if i == j] \n",
    "\n",
    "accuracy_modified_viterbi = len(check)/len(tagged_seq_viterbi_modified)\n",
    "\n",
    "accuracy_modified_viterbi"
   ]
  },
  {
   "cell_type": "markdown",
   "metadata": {},
   "source": [
    "### Using  we are able to get 97.3% accuracy"
   ]
  },
  {
   "cell_type": "markdown",
   "metadata": {},
   "source": [
    "#### Evaluating tagging accuracy"
   ]
  },
  {
   "cell_type": "code",
   "execution_count": 54,
   "metadata": {},
   "outputs": [],
   "source": [
    "file_1 = open(\"Test_sentences.txt\",\"r\") \n",
    "text = file_1.read()\n",
    "test_sent = text.splitlines()\n",
    "file_1.close()"
   ]
  },
  {
   "cell_type": "code",
   "execution_count": 55,
   "metadata": {},
   "outputs": [
    {
     "data": {
      "text/plain": [
       "['Android is a mobile operating system developed by Google.',\n",
       " 'Android has been the best-selling OS worldwide on smartphones since 2011 and on tablets since 2013.',\n",
       " \"Google and Twitter made a deal in 2015 that gave Google access to Twitter's firehose.\",\n",
       " 'Twitter is an online news and social networking service on which users post and interact with messages known as tweets.',\n",
       " 'Before entering politics, Donald Trump was a domineering businessman and a television personality.',\n",
       " 'The 2018 FIFA World Cup is the 21st FIFA World Cup, an international football tournament contested once every four years.',\n",
       " 'This is the first World Cup to be held in Eastern Europe and the 11th time that it has been held in Europe.',\n",
       " 'Show me the cheapest round trips from Dallas to Atlanta',\n",
       " 'I would like to see flights from Denver to Philadelphia.',\n",
       " 'Show me the price of the flights leaving Atlanta at about 3 in the afternoon and arriving in San Francisco.',\n",
       " 'NASA invited social media users to experience the launch of ICESAT-2 Satellite.',\n",
       " '',\n",
       " '',\n",
       " '']"
      ]
     },
     "execution_count": 55,
     "metadata": {},
     "output_type": "execute_result"
    }
   ],
   "source": [
    "test_sent"
   ]
  },
  {
   "cell_type": "code",
   "execution_count": 56,
   "metadata": {},
   "outputs": [
    {
     "data": {
      "text/plain": [
       "''"
      ]
     },
     "execution_count": 56,
     "metadata": {},
     "output_type": "execute_result"
    }
   ],
   "source": [
    "test_sent.pop()\n",
    "test_sent.pop()\n",
    "test_sent.pop()"
   ]
  },
  {
   "cell_type": "code",
   "execution_count": 57,
   "metadata": {},
   "outputs": [
    {
     "data": {
      "text/plain": [
       "['Android is a mobile operating system developed by Google.',\n",
       " 'Android has been the best-selling OS worldwide on smartphones since 2011 and on tablets since 2013.',\n",
       " \"Google and Twitter made a deal in 2015 that gave Google access to Twitter's firehose.\",\n",
       " 'Twitter is an online news and social networking service on which users post and interact with messages known as tweets.',\n",
       " 'Before entering politics, Donald Trump was a domineering businessman and a television personality.',\n",
       " 'The 2018 FIFA World Cup is the 21st FIFA World Cup, an international football tournament contested once every four years.',\n",
       " 'This is the first World Cup to be held in Eastern Europe and the 11th time that it has been held in Europe.',\n",
       " 'Show me the cheapest round trips from Dallas to Atlanta',\n",
       " 'I would like to see flights from Denver to Philadelphia.',\n",
       " 'Show me the price of the flights leaving Atlanta at about 3 in the afternoon and arriving in San Francisco.',\n",
       " 'NASA invited social media users to experience the launch of ICESAT-2 Satellite.']"
      ]
     },
     "execution_count": 57,
     "metadata": {},
     "output_type": "execute_result"
    }
   ],
   "source": [
    "test_sent"
   ]
  },
  {
   "cell_type": "code",
   "execution_count": 58,
   "metadata": {},
   "outputs": [],
   "source": [
    "sentence_test=''\n",
    "# list of untagged words\n",
    "for sent in test_sent:\n",
    "    sentence_test = str(sentence_test)+' '+str(sent)"
   ]
  },
  {
   "cell_type": "code",
   "execution_count": 59,
   "metadata": {},
   "outputs": [
    {
     "data": {
      "text/plain": [
       "\" Android is a mobile operating system developed by Google. Android has been the best-selling OS worldwide on smartphones since 2011 and on tablets since 2013. Google and Twitter made a deal in 2015 that gave Google access to Twitter's firehose. Twitter is an online news and social networking service on which users post and interact with messages known as tweets. Before entering politics, Donald Trump was a domineering businessman and a television personality. The 2018 FIFA World Cup is the 21st FIFA World Cup, an international football tournament contested once every four years. This is the first World Cup to be held in Eastern Europe and the 11th time that it has been held in Europe. Show me the cheapest round trips from Dallas to Atlanta I would like to see flights from Denver to Philadelphia. Show me the price of the flights leaving Atlanta at about 3 in the afternoon and arriving in San Francisco. NASA invited social media users to experience the launch of ICESAT-2 Satellite.\""
      ]
     },
     "execution_count": 59,
     "metadata": {},
     "output_type": "execute_result"
    }
   ],
   "source": [
    "sentence_test"
   ]
  },
  {
   "cell_type": "markdown",
   "metadata": {},
   "source": [
    "#### Vanilla Viterbi"
   ]
  },
  {
   "cell_type": "code",
   "execution_count": 60,
   "metadata": {},
   "outputs": [],
   "source": [
    "\n",
    "words = word_tokenize(sentence_test)\n",
    "\n",
    "start = time.time()\n",
    "tagged_seq = Viterbi(words)\n",
    "end = time.time()\n",
    "difference = end-start"
   ]
  },
  {
   "cell_type": "code",
   "execution_count": 61,
   "metadata": {},
   "outputs": [
    {
     "name": "stdout",
     "output_type": "stream",
     "text": [
      "[('Android', 'DET'), ('is', 'VERB'), ('a', 'DET'), ('mobile', 'ADJ'), ('operating', 'NOUN'), ('system', 'NOUN'), ('developed', 'VERB'), ('by', 'ADP'), ('Google', 'DET'), ('.', '.'), ('Android', 'DET'), ('has', 'VERB'), ('been', 'VERB'), ('the', 'DET'), ('best-selling', 'ADJ'), ('OS', 'DET'), ('worldwide', 'DET'), ('on', 'ADP'), ('smartphones', 'DET'), ('since', 'ADP'), ('2011', 'DET'), ('and', 'CONJ'), ('on', 'ADP'), ('tablets', 'NOUN'), ('since', 'ADP'), ('2013', 'DET'), ('.', '.'), ('Google', 'DET'), ('and', 'CONJ'), ('Twitter', 'DET'), ('made', 'VERB'), ('a', 'DET'), ('deal', 'NOUN'), ('in', 'ADP'), ('2015', 'DET'), ('that', 'ADP'), ('gave', 'VERB'), ('Google', 'DET'), ('access', 'NOUN'), ('to', 'PRT'), ('Twitter', 'DET'), (\"'s\", 'VERB'), ('firehose', 'DET'), ('.', '.'), ('Twitter', 'DET'), ('is', 'VERB'), ('an', 'DET'), ('online', 'DET'), ('news', 'NOUN'), ('and', 'CONJ'), ('social', 'ADJ'), ('networking', 'NOUN'), ('service', 'NOUN'), ('on', 'ADP'), ('which', 'DET'), ('users', 'NOUN'), ('post', 'NOUN'), ('and', 'CONJ'), ('interact', 'DET'), ('with', 'ADP'), ('messages', 'DET'), ('known', 'VERB'), ('as', 'ADP'), ('tweets', 'DET'), ('.', '.'), ('Before', 'ADP'), ('entering', 'VERB'), ('politics', 'NOUN'), (',', '.'), ('Donald', 'NOUN'), ('Trump', 'NOUN'), ('was', 'VERB'), ('a', 'DET'), ('domineering', 'DET'), ('businessman', 'NOUN'), ('and', 'CONJ'), ('a', 'DET'), ('television', 'NOUN'), ('personality', 'DET'), ('.', '.'), ('The', 'DET'), ('2018', 'DET'), ('FIFA', 'DET'), ('World', 'NOUN'), ('Cup', 'DET'), ('is', 'VERB'), ('the', 'DET'), ('21st', 'DET'), ('FIFA', 'DET'), ('World', 'NOUN'), ('Cup', 'DET'), (',', '.'), ('an', 'DET'), ('international', 'ADJ'), ('football', 'NOUN'), ('tournament', 'DET'), ('contested', 'DET'), ('once', 'ADV'), ('every', 'DET'), ('four', 'NUM'), ('years', 'NOUN'), ('.', '.'), ('This', 'DET'), ('is', 'VERB'), ('the', 'DET'), ('first', 'ADJ'), ('World', 'NOUN'), ('Cup', 'DET'), ('to', 'PRT'), ('be', 'VERB'), ('held', 'VERB'), ('in', 'ADP'), ('Eastern', 'NOUN'), ('Europe', 'NOUN'), ('and', 'CONJ'), ('the', 'DET'), ('11th', 'ADJ'), ('time', 'NOUN'), ('that', 'ADP'), ('it', 'PRON'), ('has', 'VERB'), ('been', 'VERB'), ('held', 'VERB'), ('in', 'ADP'), ('Europe', 'NOUN'), ('.', '.'), ('Show', 'NOUN'), ('me', 'PRON'), ('the', 'DET'), ('cheapest', 'ADJ'), ('round', 'NOUN'), ('trips', 'DET'), ('from', 'ADP'), ('Dallas', 'NOUN'), ('to', 'PRT'), ('Atlanta', 'NOUN'), ('I', 'PRON'), ('would', 'VERB'), ('like', 'ADP'), ('to', 'PRT'), ('see', 'VERB'), ('flights', 'NOUN'), ('from', 'ADP'), ('Denver', 'NOUN'), ('to', 'PRT'), ('Philadelphia', 'NOUN'), ('.', '.'), ('Show', 'NOUN'), ('me', 'PRON'), ('the', 'DET'), ('price', 'NOUN'), ('of', 'ADP'), ('the', 'DET'), ('flights', 'NOUN'), ('leaving', 'VERB'), ('Atlanta', 'NOUN'), ('at', 'ADP'), ('about', 'ADP'), ('3', 'NUM'), ('in', 'ADP'), ('the', 'DET'), ('afternoon', 'NOUN'), ('and', 'CONJ'), ('arriving', 'DET'), ('in', 'ADP'), ('San', 'NOUN'), ('Francisco', 'NOUN'), ('.', '.'), ('NASA', 'DET'), ('invited', 'DET'), ('social', 'ADJ'), ('media', 'NOUN'), ('users', 'NOUN'), ('to', 'PRT'), ('experience', 'NOUN'), ('the', 'DET'), ('launch', 'NOUN'), ('of', 'ADP'), ('ICESAT-2', 'DET'), ('Satellite', 'DET'), ('.', '.')]\n",
      "55.68717694282532\n"
     ]
    }
   ],
   "source": [
    "print(tagged_seq)\n",
    "print(difference)"
   ]
  },
  {
   "cell_type": "markdown",
   "metadata": {},
   "source": [
    "#### Modified Viterbi"
   ]
  },
  {
   "cell_type": "code",
   "execution_count": 62,
   "metadata": {},
   "outputs": [],
   "source": [
    "\n",
    "words = word_tokenize(sentence_test)\n",
    "\n",
    "start = time.time()\n",
    "tagged_seq = Viterbi_modified(words)\n",
    "end = time.time()\n",
    "difference = end-start"
   ]
  },
  {
   "cell_type": "code",
   "execution_count": 63,
   "metadata": {},
   "outputs": [
    {
     "name": "stdout",
     "output_type": "stream",
     "text": [
      "[('Android', 'NOUN'), ('is', 'VERB'), ('a', 'DET'), ('mobile', 'ADJ'), ('operating', 'NOUN'), ('system', 'NOUN'), ('developed', 'VERB'), ('by', 'ADP'), ('Google', 'NOUN'), ('.', '.'), ('Android', 'NOUN'), ('has', 'VERB'), ('been', 'VERB'), ('the', 'DET'), ('best-selling', 'ADJ'), ('OS', 'NOUN'), ('worldwide', 'NOUN'), ('on', 'ADP'), ('smartphones', 'VERB'), ('since', 'ADP'), ('2011', 'NUM'), ('and', 'CONJ'), ('on', 'ADP'), ('tablets', 'NOUN'), ('since', 'ADP'), ('2013', 'NUM'), ('.', '.'), ('Google', 'NOUN'), ('and', 'CONJ'), ('Twitter', 'NOUN'), ('made', 'VERB'), ('a', 'DET'), ('deal', 'NOUN'), ('in', 'ADP'), ('2015', 'NUM'), ('that', 'ADP'), ('gave', 'VERB'), ('Google', 'NOUN'), ('access', 'NOUN'), ('to', 'PRT'), ('Twitter', 'NOUN'), (\"'s\", 'PRT'), ('firehose', 'NOUN'), ('.', '.'), ('Twitter', 'NOUN'), ('is', 'VERB'), ('an', 'DET'), ('online', 'NOUN'), ('news', 'NOUN'), ('and', 'CONJ'), ('social', 'ADJ'), ('networking', 'NOUN'), ('service', 'NOUN'), ('on', 'ADP'), ('which', 'DET'), ('users', 'NOUN'), ('post', 'NOUN'), ('and', 'CONJ'), ('interact', 'NOUN'), ('with', 'ADP'), ('messages', 'VERB'), ('known', 'VERB'), ('as', 'ADP'), ('tweets', 'NOUN'), ('.', '.'), ('Before', 'ADP'), ('entering', 'VERB'), ('politics', 'NOUN'), (',', '.'), ('Donald', 'NOUN'), ('Trump', 'NOUN'), ('was', 'VERB'), ('a', 'DET'), ('domineering', 'VERB'), ('businessman', 'NOUN'), ('and', 'CONJ'), ('a', 'DET'), ('television', 'NOUN'), ('personality', 'NOUN'), ('.', '.'), ('The', 'DET'), ('2018', 'NUM'), ('FIFA', 'NOUN'), ('World', 'NOUN'), ('Cup', 'NOUN'), ('is', 'VERB'), ('the', 'DET'), ('21st', 'NOUN'), ('FIFA', 'NOUN'), ('World', 'NOUN'), ('Cup', 'NOUN'), (',', '.'), ('an', 'DET'), ('international', 'ADJ'), ('football', 'NOUN'), ('tournament', 'NOUN'), ('contested', 'VERB'), ('once', 'ADV'), ('every', 'DET'), ('four', 'NUM'), ('years', 'NOUN'), ('.', '.'), ('This', 'DET'), ('is', 'VERB'), ('the', 'DET'), ('first', 'ADJ'), ('World', 'NOUN'), ('Cup', 'NOUN'), ('to', 'PRT'), ('be', 'VERB'), ('held', 'VERB'), ('in', 'ADP'), ('Eastern', 'NOUN'), ('Europe', 'NOUN'), ('and', 'CONJ'), ('the', 'DET'), ('11th', 'ADJ'), ('time', 'NOUN'), ('that', 'ADP'), ('it', 'PRON'), ('has', 'VERB'), ('been', 'VERB'), ('held', 'VERB'), ('in', 'ADP'), ('Europe', 'NOUN'), ('.', '.'), ('Show', 'NOUN'), ('me', 'PRON'), ('the', 'DET'), ('cheapest', 'ADJ'), ('round', 'NOUN'), ('trips', 'NOUN'), ('from', 'ADP'), ('Dallas', 'NOUN'), ('to', 'PRT'), ('Atlanta', 'NOUN'), ('I', 'PRON'), ('would', 'VERB'), ('like', 'ADP'), ('to', 'PRT'), ('see', 'VERB'), ('flights', 'NOUN'), ('from', 'ADP'), ('Denver', 'NOUN'), ('to', 'PRT'), ('Philadelphia', 'NOUN'), ('.', '.'), ('Show', 'NOUN'), ('me', 'PRON'), ('the', 'DET'), ('price', 'NOUN'), ('of', 'ADP'), ('the', 'DET'), ('flights', 'NOUN'), ('leaving', 'VERB'), ('Atlanta', 'NOUN'), ('at', 'ADP'), ('about', 'ADP'), ('3', 'NUM'), ('in', 'ADP'), ('the', 'DET'), ('afternoon', 'NOUN'), ('and', 'CONJ'), ('arriving', 'VERB'), ('in', 'ADP'), ('San', 'NOUN'), ('Francisco', 'NOUN'), ('.', '.'), ('NASA', 'NOUN'), ('invited', 'VERB'), ('social', 'ADJ'), ('media', 'NOUN'), ('users', 'NOUN'), ('to', 'PRT'), ('experience', 'NOUN'), ('the', 'DET'), ('launch', 'NOUN'), ('of', 'ADP'), ('ICESAT-2', 'NOUN'), ('Satellite', 'NOUN'), ('.', '.')]\n",
      "45.50058078765869\n"
     ]
    }
   ],
   "source": [
    "print(tagged_seq)\n",
    "print(difference)"
   ]
  },
  {
   "cell_type": "markdown",
   "metadata": {},
   "source": [
    "Android -> 'DET' to 'NOUN'\n",
    "Google'-> 'DET' to 'NOUN'\n",
    "worldwide'-> 'DET' to 'NOUN'"
   ]
  },
  {
   "cell_type": "markdown",
   "metadata": {},
   "source": [
    "### Compare the tagging accuracies of the modifications with the vanilla Viterbi algorithm"
   ]
  },
  {
   "cell_type": "code",
   "execution_count": 64,
   "metadata": {},
   "outputs": [
    {
     "data": {
      "text/plain": [
       "0.9144736842105263"
      ]
     },
     "execution_count": 64,
     "metadata": {},
     "output_type": "execute_result"
    }
   ],
   "source": [
    "accuracy_vanilla_viterbi"
   ]
  },
  {
   "cell_type": "code",
   "execution_count": 65,
   "metadata": {},
   "outputs": [
    {
     "data": {
      "text/plain": [
       "0.9736842105263158"
      ]
     },
     "execution_count": 65,
     "metadata": {},
     "output_type": "execute_result"
    }
   ],
   "source": [
    "accuracy_modified_viterbi"
   ]
  },
  {
   "cell_type": "markdown",
   "metadata": {},
   "source": [
    "### Hence we were able to get better ccuray from 92% to 97%"
   ]
  },
  {
   "cell_type": "markdown",
   "metadata": {},
   "source": [
    "### List down cases which were incorrectly tagged by original POS tagger and got corrected by your modifications"
   ]
  },
  {
   "cell_type": "code",
   "execution_count": 66,
   "metadata": {},
   "outputs": [],
   "source": [
    "incorrect_tagged_cases_mv = [[test_run_base[i-1],j] for i, j in enumerate(zip(tagged_seq_viterbi_vanilla, test_run_base)) if j[0]!=j[1]]"
   ]
  },
  {
   "cell_type": "code",
   "execution_count": 67,
   "metadata": {},
   "outputs": [
    {
     "data": {
      "text/plain": [
       "[[('To', 'PRT'), (('profit', 'NOUN'), ('profit', 'VERB'))],\n",
       " [('visiting', 'VERB'), (('about', 'ADP'), ('about', 'ADV'))],\n",
       " [('about', 'ADV'), (('26,000', 'DET'), ('26,000', 'NUM'))],\n",
       " [('cigarette', 'NOUN'), (('stalls', 'DET'), ('stalls', 'NOUN'))],\n",
       " [('illegal', 'ADJ'), (('posters', 'DET'), ('posters', 'NOUN'))],\n",
       " [('and', 'CONJ'), (('signboards', 'DET'), ('signboards', 'NOUN'))],\n",
       " [('signboards', 'NOUN'), (('advertising', 'NOUN'), ('advertising', 'VERB'))],\n",
       " [('$', '.'), (('81.8', 'DET'), ('81.8', 'NUM'))],\n",
       " [('of', 'ADP'), (('7.20', 'DET'), ('7.20', 'NUM'))],\n",
       " [('the', 'DET'),\n",
       "  (('most-likely-successor', 'DET'), ('most-likely-successor', 'ADJ'))],\n",
       " [('are', 'VERB'), (('Joni', 'DET'), ('Joni', 'NOUN'))],\n",
       " [(',', '.'), (('recruited', 'DET'), ('recruited', 'VERB'))],\n",
       " [('and', 'CONJ'), (('Sonny', 'DET'), ('Sonny', 'NOUN'))]]"
      ]
     },
     "execution_count": 67,
     "metadata": {},
     "output_type": "execute_result"
    }
   ],
   "source": [
    "incorrect_tagged_cases_mv"
   ]
  },
  {
   "cell_type": "code",
   "execution_count": 68,
   "metadata": {},
   "outputs": [],
   "source": [
    "incorrect_tagged_cases_vv = [[test_run_base[i-1],j] for i, j in enumerate(zip(tagged_seq_viterbi_modified, test_run_base)) if j[0]!=j[1]]"
   ]
  },
  {
   "cell_type": "code",
   "execution_count": 69,
   "metadata": {},
   "outputs": [
    {
     "data": {
      "text/plain": [
       "[[('To', 'PRT'), (('profit', 'NOUN'), ('profit', 'VERB'))],\n",
       " [('visiting', 'VERB'), (('about', 'ADP'), ('about', 'ADV'))],\n",
       " [('signboards', 'NOUN'), (('advertising', 'NOUN'), ('advertising', 'VERB'))],\n",
       " [('the', 'DET'),\n",
       "  (('most-likely-successor', 'NOUN'), ('most-likely-successor', 'ADJ'))]]"
      ]
     },
     "execution_count": 69,
     "metadata": {},
     "output_type": "execute_result"
    }
   ],
   "source": [
    "incorrect_tagged_cases_vv"
   ]
  },
  {
   "cell_type": "raw",
   "metadata": {},
   "source": [
    "Following are the list of words which Modified Veterbi performed better than Vanilla Viterbi\n",
    "\n",
    "1. 26,000\n",
    "2. 81.8\n",
    "3. 7.20\n",
    "4. stalls\n",
    "5. posters\n",
    "6. signboards\n",
    "7. Joni\n",
    "8. Sonny"
   ]
  }
 ],
 "metadata": {
  "kernelspec": {
   "display_name": "Python 3",
   "language": "python",
   "name": "python3"
  },
  "language_info": {
   "codemirror_mode": {
    "name": "ipython",
    "version": 3
   },
   "file_extension": ".py",
   "mimetype": "text/x-python",
   "name": "python",
   "nbconvert_exporter": "python",
   "pygments_lexer": "ipython3",
   "version": "3.7.3"
  }
 },
 "nbformat": 4,
 "nbformat_minor": 2
}
